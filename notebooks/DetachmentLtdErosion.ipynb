{
 "cells": [
  {
   "cell_type": "markdown",
   "metadata": {},
   "source": [
    "### DetachmentLtdErosion\n",
    "\n",
    "considera o uplift\n",
    "\n",
    "https://landlab.readthedocs.io/en/latest/reference/core/index.html#landlab.core.model_component.Component"
   ]
  },
  {
   "cell_type": "markdown",
   "metadata": {},
   "source": [
    "ver também : DepthSlopeProductErosion"
   ]
  },
  {
   "cell_type": "markdown",
   "metadata": {},
   "source": [
    "grid, K_sp=2e-05, m_sp=0.5, n_sp=1.0, uplift_rate=0.0, entrainment_threshold=0.0, slope='topographic__slope'\n",
    "\n",
    "* grid (RasterModelGrid) – A landlab grid.\n",
    "* K_sp (float, optional) – K in the stream power equation (units vary with other parameters - if used with the de * Almeida equation it is paramount to make sure the time component is set to seconds, not years!)\n",
    "* m_sp (float, optional) – Stream power exponent, power on discharge\n",
    "* n_sp (float, optional) – Stream power exponent, power on slope\n",
    "* uplift_rate (float, optional) – changes in topographic elevation due to tectonic uplift\n",
    "* entrainment_threshold (float, optional) – threshold for sediment movement\n",
    "* slope (str) – Field name of an at-node field that contains the slope."
   ]
  },
  {
   "cell_type": "code",
   "execution_count": 30,
   "metadata": {},
   "outputs": [],
   "source": [
    "import numpy as np\n",
    "from landlab import RasterModelGrid\n",
    "from landlab.components import DetachmentLtdErosion, FlowAccumulator, DepthSlopeProductErosion\n",
    "from landlab.components.overland_flow import OverlandFlow\n",
    "from landlab.io import read_esri_ascii"
   ]
  },
  {
   "cell_type": "code",
   "execution_count": 26,
   "metadata": {},
   "outputs": [
    {
     "data": {
      "text/plain": [
       "['topographic__elevation']"
      ]
     },
     "execution_count": 26,
     "metadata": {},
     "output_type": "execute_result"
    }
   ],
   "source": [
    "(mg_origin, z) = read_esri_ascii(\"./save_asc/testes/ascii_cropadotest.asc\", name=\"topographic__elevation\")\n",
    "\n",
    "(mg, z) = read_esri_ascii(\"./save_asc/testes/ascii_cropadotest.asc\", name=\"topographic__elevation\")\n",
    "mg.at_node.keys()"
   ]
  },
  {
   "cell_type": "markdown",
   "metadata": {},
   "source": [
    "## instantiate component"
   ]
  },
  {
   "cell_type": "code",
   "execution_count": 31,
   "metadata": {},
   "outputs": [
    {
     "ename": "FieldError",
     "evalue": "DepthSlopeProductErosion is missing required input field: surface_water__depth at node",
     "output_type": "error",
     "traceback": [
      "\u001b[0;31m---------------------------------------------------------------------------\u001b[0m",
      "\u001b[0;31mFieldError\u001b[0m                                Traceback (most recent call last)",
      "\u001b[0;32m<ipython-input-31-ecd21c329680>\u001b[0m in \u001b[0;36m<module>\u001b[0;34m\u001b[0m\n\u001b[1;32m      2\u001b[0m \u001b[0mfr\u001b[0m \u001b[0;34m=\u001b[0m \u001b[0mFlowAccumulator\u001b[0m\u001b[0;34m(\u001b[0m\u001b[0mmg\u001b[0m\u001b[0;34m,\u001b[0m \u001b[0mflow_director\u001b[0m\u001b[0;34m=\u001b[0m\u001b[0;34m'D8'\u001b[0m\u001b[0;34m)\u001b[0m\u001b[0;34m\u001b[0m\u001b[0;34m\u001b[0m\u001b[0m\n\u001b[1;32m      3\u001b[0m \u001b[0mfr\u001b[0m\u001b[0;34m.\u001b[0m\u001b[0mrun_one_step\u001b[0m\u001b[0;34m(\u001b[0m\u001b[0;34m)\u001b[0m\u001b[0;34m\u001b[0m\u001b[0;34m\u001b[0m\u001b[0m\n\u001b[0;32m----> 4\u001b[0;31m \u001b[0mof\u001b[0m \u001b[0;34m=\u001b[0m \u001b[0mDepthSlopeProductErosion\u001b[0m\u001b[0;34m(\u001b[0m\u001b[0mmg\u001b[0m\u001b[0;34m)\u001b[0m\u001b[0;34m\u001b[0m\u001b[0;34m\u001b[0m\u001b[0m\n\u001b[0m\u001b[1;32m      5\u001b[0m \u001b[0mof\u001b[0m\u001b[0;34m.\u001b[0m\u001b[0mrun_one_step\u001b[0m\u001b[0;34m(\u001b[0m\u001b[0;34m)\u001b[0m\u001b[0;34m\u001b[0m\u001b[0;34m\u001b[0m\u001b[0m\n\u001b[1;32m      6\u001b[0m \u001b[0;34m\u001b[0m\u001b[0m\n",
      "\u001b[0;32m~/.virtualenvs/geo/lib/python3.6/site-packages/landlab/components/detachment_ltd_erosion/generate_erosion_by_depth_slope.py\u001b[0m in \u001b[0;36m__init__\u001b[0;34m(self, grid, k_e, fluid_density, g, a_exp, tau_crit, uplift_rate, slope)\u001b[0m\n\u001b[1;32m    189\u001b[0m             \u001b[0mField\u001b[0m \u001b[0mname\u001b[0m \u001b[0mof\u001b[0m \u001b[0man\u001b[0m \u001b[0mat\u001b[0m\u001b[0;34m-\u001b[0m\u001b[0mnode\u001b[0m \u001b[0mfield\u001b[0m \u001b[0mthat\u001b[0m \u001b[0mcontains\u001b[0m \u001b[0mthe\u001b[0m \u001b[0mslope\u001b[0m\u001b[0;34m.\u001b[0m\u001b[0;34m\u001b[0m\u001b[0;34m\u001b[0m\u001b[0m\n\u001b[1;32m    190\u001b[0m         \"\"\"\n\u001b[0;32m--> 191\u001b[0;31m         \u001b[0msuper\u001b[0m\u001b[0;34m(\u001b[0m\u001b[0;34m)\u001b[0m\u001b[0;34m.\u001b[0m\u001b[0m__init__\u001b[0m\u001b[0;34m(\u001b[0m\u001b[0mgrid\u001b[0m\u001b[0;34m)\u001b[0m\u001b[0;34m\u001b[0m\u001b[0;34m\u001b[0m\u001b[0m\n\u001b[0m\u001b[1;32m    192\u001b[0m \u001b[0;34m\u001b[0m\u001b[0m\n\u001b[1;32m    193\u001b[0m         \u001b[0;32massert\u001b[0m \u001b[0mslope\u001b[0m \u001b[0;32min\u001b[0m \u001b[0mgrid\u001b[0m\u001b[0;34m.\u001b[0m\u001b[0mat_node\u001b[0m\u001b[0;34m\u001b[0m\u001b[0;34m\u001b[0m\u001b[0m\n",
      "\u001b[0;32m~/.virtualenvs/geo/lib/python3.6/site-packages/landlab/core/model_component.py\u001b[0m in \u001b[0;36m__init__\u001b[0;34m(self, grid)\u001b[0m\n\u001b[1;32m     78\u001b[0m                     raise FieldError(\n\u001b[1;32m     79\u001b[0m                         \"{component} is missing required input field: {name} at {at}\".format(\n\u001b[0;32m---> 80\u001b[0;31m                             \u001b[0mcomponent\u001b[0m\u001b[0;34m=\u001b[0m\u001b[0mself\u001b[0m\u001b[0;34m.\u001b[0m\u001b[0m_name\u001b[0m\u001b[0;34m,\u001b[0m \u001b[0mname\u001b[0m\u001b[0;34m=\u001b[0m\u001b[0mname\u001b[0m\u001b[0;34m,\u001b[0m \u001b[0mat\u001b[0m\u001b[0;34m=\u001b[0m\u001b[0mat\u001b[0m\u001b[0;34m\u001b[0m\u001b[0;34m\u001b[0m\u001b[0m\n\u001b[0m\u001b[1;32m     81\u001b[0m                         )\n\u001b[1;32m     82\u001b[0m                     )\n",
      "\u001b[0;31mFieldError\u001b[0m: DepthSlopeProductErosion is missing required input field: surface_water__depth at node"
     ]
    }
   ],
   "source": [
    "dt = 10.0\n",
    "fr = FlowAccumulator(mg, flow_director='D8') \n",
    "fr.run_one_step()\n",
    "of = DepthSlopeProductErosion(mg)\n",
    "of.run_one_step()\n",
    "\n"
   ]
  },
  {
   "cell_type": "code",
   "execution_count": 29,
   "metadata": {},
   "outputs": [
    {
     "data": {
      "text/plain": [
       "['topographic__elevation',\n",
       " 'water__unit_flux_in',\n",
       " 'flow__sink_flag',\n",
       " 'flow__link_to_receiver_node',\n",
       " 'flow__receiver_node',\n",
       " 'topographic__steepest_slope',\n",
       " 'drainage_area',\n",
       " 'flow__data_structure_delta',\n",
       " 'flow__upstream_node_order',\n",
       " 'surface_water__discharge']"
      ]
     },
     "execution_count": 29,
     "metadata": {},
     "output_type": "execute_result"
    }
   ],
   "source": [
    "mg.at_node.keys()"
   ]
  },
  {
   "cell_type": "code",
   "execution_count": 24,
   "metadata": {},
   "outputs": [
    {
     "ename": "FieldError",
     "evalue": "DetachmentLtdErosion is missing required input field: surface_water__discharge at node",
     "output_type": "error",
     "traceback": [
      "\u001b[0;31m---------------------------------------------------------------------------\u001b[0m",
      "\u001b[0;31mFieldError\u001b[0m                                Traceback (most recent call last)",
      "\u001b[0;32m<ipython-input-24-c4b2781bb31b>\u001b[0m in \u001b[0;36m<module>\u001b[0;34m\u001b[0m\n\u001b[0;32m----> 1\u001b[0;31m \u001b[0mdle\u001b[0m \u001b[0;34m=\u001b[0m \u001b[0mDetachmentLtdErosion\u001b[0m\u001b[0;34m(\u001b[0m\u001b[0mmg\u001b[0m\u001b[0;34m,\u001b[0m\u001b[0mslope\u001b[0m\u001b[0;34m=\u001b[0m\u001b[0;34m'topographic__elevation'\u001b[0m \u001b[0;34m)\u001b[0m\u001b[0;34m\u001b[0m\u001b[0;34m\u001b[0m\u001b[0m\n\u001b[0m\u001b[1;32m      2\u001b[0m \u001b[0mdle\u001b[0m\u001b[0;34m.\u001b[0m\u001b[0mrun_one_step\u001b[0m\u001b[0;34m(\u001b[0m\u001b[0mdt\u001b[0m\u001b[0;34m=\u001b[0m\u001b[0mdt\u001b[0m\u001b[0;34m)\u001b[0m\u001b[0;34m\u001b[0m\u001b[0;34m\u001b[0m\u001b[0m\n",
      "\u001b[0;32m~/.virtualenvs/geo/lib/python3.6/site-packages/landlab/components/detachment_ltd_erosion/generate_detachment_ltd_erosion.py\u001b[0m in \u001b[0;36m__init__\u001b[0;34m(self, grid, K_sp, m_sp, n_sp, uplift_rate, entrainment_threshold, slope)\u001b[0m\n\u001b[1;32m    176\u001b[0m             \u001b[0mField\u001b[0m \u001b[0mname\u001b[0m \u001b[0mof\u001b[0m \u001b[0man\u001b[0m \u001b[0mat\u001b[0m\u001b[0;34m-\u001b[0m\u001b[0mnode\u001b[0m \u001b[0mfield\u001b[0m \u001b[0mthat\u001b[0m \u001b[0mcontains\u001b[0m \u001b[0mthe\u001b[0m \u001b[0mslope\u001b[0m\u001b[0;34m.\u001b[0m\u001b[0;34m\u001b[0m\u001b[0;34m\u001b[0m\u001b[0m\n\u001b[1;32m    177\u001b[0m         \"\"\"\n\u001b[0;32m--> 178\u001b[0;31m         \u001b[0msuper\u001b[0m\u001b[0;34m(\u001b[0m\u001b[0;34m)\u001b[0m\u001b[0;34m.\u001b[0m\u001b[0m__init__\u001b[0m\u001b[0;34m(\u001b[0m\u001b[0mgrid\u001b[0m\u001b[0;34m)\u001b[0m\u001b[0;34m\u001b[0m\u001b[0;34m\u001b[0m\u001b[0m\n\u001b[0m\u001b[1;32m    179\u001b[0m \u001b[0;34m\u001b[0m\u001b[0m\n\u001b[1;32m    180\u001b[0m         \u001b[0;32massert\u001b[0m \u001b[0mslope\u001b[0m \u001b[0;32min\u001b[0m \u001b[0mgrid\u001b[0m\u001b[0;34m.\u001b[0m\u001b[0mat_node\u001b[0m\u001b[0;34m\u001b[0m\u001b[0;34m\u001b[0m\u001b[0m\n",
      "\u001b[0;32m~/.virtualenvs/geo/lib/python3.6/site-packages/landlab/core/model_component.py\u001b[0m in \u001b[0;36m__init__\u001b[0;34m(self, grid)\u001b[0m\n\u001b[1;32m     78\u001b[0m                     raise FieldError(\n\u001b[1;32m     79\u001b[0m                         \"{component} is missing required input field: {name} at {at}\".format(\n\u001b[0;32m---> 80\u001b[0;31m                             \u001b[0mcomponent\u001b[0m\u001b[0;34m=\u001b[0m\u001b[0mself\u001b[0m\u001b[0;34m.\u001b[0m\u001b[0m_name\u001b[0m\u001b[0;34m,\u001b[0m \u001b[0mname\u001b[0m\u001b[0;34m=\u001b[0m\u001b[0mname\u001b[0m\u001b[0;34m,\u001b[0m \u001b[0mat\u001b[0m\u001b[0;34m=\u001b[0m\u001b[0mat\u001b[0m\u001b[0;34m\u001b[0m\u001b[0;34m\u001b[0m\u001b[0m\n\u001b[0m\u001b[1;32m     81\u001b[0m                         )\n\u001b[1;32m     82\u001b[0m                     )\n",
      "\u001b[0;31mFieldError\u001b[0m: DetachmentLtdErosion is missing required input field: surface_water__discharge at node"
     ]
    }
   ],
   "source": [
    "dle = DetachmentLtdErosion(mg)\n",
    "dle.run_one_step(dt=dt)\n"
   ]
  },
  {
   "cell_type": "code",
   "execution_count": 14,
   "metadata": {},
   "outputs": [
    {
     "ename": "NameError",
     "evalue": "name 'dle' is not defined",
     "output_type": "error",
     "traceback": [
      "\u001b[0;31m---------------------------------------------------------------------------\u001b[0m",
      "\u001b[0;31mNameError\u001b[0m                                 Traceback (most recent call last)",
      "\u001b[0;32m<ipython-input-14-b03cafd0580b>\u001b[0m in \u001b[0;36m<module>\u001b[0;34m\u001b[0m\n\u001b[0;32m----> 1\u001b[0;31m \u001b[0mdle\u001b[0m\u001b[0;34m.\u001b[0m\u001b[0moutput_var_names\u001b[0m \u001b[0;31m# to see what change\u001b[0m\u001b[0;34m\u001b[0m\u001b[0;34m\u001b[0m\u001b[0m\n\u001b[0m\u001b[1;32m      2\u001b[0m \u001b[0;34m\u001b[0m\u001b[0m\n",
      "\u001b[0;31mNameError\u001b[0m: name 'dle' is not defined"
     ]
    }
   ],
   "source": [
    "dle.output_var_names # to see what change\n",
    "\n"
   ]
  },
  {
   "cell_type": "code",
   "execution_count": null,
   "metadata": {},
   "outputs": [],
   "source": [
    "landlab.plot.imshow.imshow_grid_at_node(mg,'topographic__elevation')"
   ]
  },
  {
   "cell_type": "code",
   "execution_count": null,
   "metadata": {},
   "outputs": [],
   "source": []
  },
  {
   "cell_type": "code",
   "execution_count": null,
   "metadata": {},
   "outputs": [],
   "source": []
  },
  {
   "cell_type": "code",
   "execution_count": null,
   "metadata": {},
   "outputs": [],
   "source": []
  }
 ],
 "metadata": {
  "kernelspec": {
   "display_name": "Python 3",
   "language": "python",
   "name": "python3"
  },
  "language_info": {
   "codemirror_mode": {
    "name": "ipython",
    "version": 3
   },
   "file_extension": ".py",
   "mimetype": "text/x-python",
   "name": "python",
   "nbconvert_exporter": "python",
   "pygments_lexer": "ipython3",
   "version": "3.6.9"
  }
 },
 "nbformat": 4,
 "nbformat_minor": 4
}
