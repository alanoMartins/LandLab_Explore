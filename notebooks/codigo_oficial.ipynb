{
 "cells": [
  {
   "cell_type": "markdown",
   "metadata": {},
   "source": [
    "## Codigo fonte da implementação do landlab para shield stress\n",
    "> https://github.com/landlab/landlab/blob/c930a865722cb5f4bc6e68afafe81eb9615fed57/landlab/components/stream_power/sed_flux_dep_incision.py"
   ]
  },
  {
   "cell_type": "markdown",
   "metadata": {},
   "source": [
    "## Import dependencies"
   ]
  },
  {
   "cell_type": "code",
   "execution_count": null,
   "metadata": {},
   "outputs": [],
   "source": [
    "import os\n",
    "from landlab.components import FlowAccumulator, FastscapeEroder,LinearDiffuser, ErosionDeposition, DepressionFinderAndRouter\n",
    "from landlab import RasterModelGrid\n",
    "import landlab\n",
    "import numpy as np\n",
    "import statistics \n",
    "from pylab import show, figure\n",
    "from landlab.io import read_esri_ascii\n",
    "from landlab import Component\n",
    "import matplotlib.pyplot as plt\n",
    "from matplotlib import cm\n",
    "from matplotlib.colors import ListedColormap, LinearSegmentedColormap\n",
    "from landlab.io.esri_ascii import write_esri_ascii\n",
    "import copy \n",
    "%matplotlib inline"
   ]
  },
  {
   "cell_type": "code",
   "execution_count": null,
   "metadata": {},
   "outputs": [],
   "source": [
    "colors = [\n",
    "    (0, 170/255, 255/255),\n",
    "    (123/255, 239/255, 91/255),\n",
    "    (246/255, 247/255, 188/255),\n",
    "    (255/255, 255/255, 0/255),\n",
    "    (244/255, 212/255, 116/255),\n",
    "    (255/255, 128/255, 0/255),\n",
    "    (165/255, 81/255, 22/255)]  # R -> G -> B\n",
    "n_bins = 7 # Discretizes the interpolation into bins\n",
    "cmap_name = 'mcmap'\n",
    "cm = LinearSegmentedColormap.from_list(cmap_name, colors, N=n_bins)\n",
    "plt.register_cmap(cmap=cm)"
   ]
  },
  {
   "cell_type": "code",
   "execution_count": null,
   "metadata": {},
   "outputs": [],
   "source": [
    "def create_folder(name):\n",
    "    parent_folder = \"./testes_dispersao\"\n",
    "    path = os.path.join(parent_folder, name)\n",
    "    if not os.path.exists(path):\n",
    "        os.mkdir(path)  "
   ]
  },
  {
   "cell_type": "code",
   "execution_count": null,
   "metadata": {},
   "outputs": [],
   "source": [
    "# Create test folder name\n",
    "test_name = 'teste_novosparametros_90'\n",
    "create_folder(test_name)"
   ]
  },
  {
   "cell_type": "markdown",
   "metadata": {},
   "source": [
    "## Load DEM"
   ]
  },
  {
   "cell_type": "code",
   "execution_count": null,
   "metadata": {},
   "outputs": [],
   "source": [
    "(mg, z) = read_esri_ascii(\"./bacia_piratini_90m.asc\", name=\"topographic__elevation\")\n",
    "mg.at_node.keys()#lista os grids contidos no DEM"
   ]
  },
  {
   "cell_type": "code",
   "execution_count": null,
   "metadata": {},
   "outputs": [],
   "source": [
    "mg"
   ]
  },
  {
   "cell_type": "code",
   "execution_count": null,
   "metadata": {},
   "outputs": [],
   "source": [
    "landlab.plot.imshow.imshow_grid_at_node(mg,'topographic__elevation') #mostra o DEM"
   ]
  },
  {
   "cell_type": "code",
   "execution_count": null,
   "metadata": {},
   "outputs": [],
   "source": [
    "(mg, z) = read_esri_ascii(\"./testes_dispersao/\"+test_name+\"/50_shear_stress_discrete.asc\", name='shear_stress')\n",
    "(mg_100, z) = read_esri_ascii(\"./testes_dispersao/\"+test_name+\"/50_shear_stress_discrete.asc\", name='shear_stress')\n",
    "# mg.at_node.keys()#lista os grids contidos no DEM"
   ]
  },
  {
   "cell_type": "code",
   "execution_count": null,
   "metadata": {},
   "outputs": [],
   "source": [
    "landlab.plot.imshow.imshow_grid_at_node(mg, 'shear_stress', cmap='mcmap')"
   ]
  },
  {
   "cell_type": "markdown",
   "metadata": {},
   "source": [
    "### define boundary conditions"
   ]
  },
  {
   "cell_type": "code",
   "execution_count": null,
   "metadata": {},
   "outputs": [],
   "source": [
    "dir(mg)"
   ]
  },
  {
   "cell_type": "code",
   "execution_count": null,
   "metadata": {},
   "outputs": [],
   "source": [
    "mg.BC_LINK_IS_FIXED\n",
    "#mg.set_fixed_value_boundaries_at_grid_edges(right, top, left, bottom)\n",
    "mg.set_fixed_value_boundaries_at_grid_edges(True, True, True, True)"
   ]
  },
  {
   "cell_type": "markdown",
   "metadata": {},
   "source": [
    "## Create shear stress component"
   ]
  },
  {
   "cell_type": "code",
   "execution_count": null,
   "metadata": {},
   "outputs": [],
   "source": [
    "class Shear_Stress(Component): #classe do componente criado\n",
    "    \n",
    "    _name = \"Shear_Stress\"\n",
    "    \n",
    "    #parametros iniciais do objeto \n",
    "    def __init__(self, dem, fluid_density=1050, g=9.80665, runoff=1, k_Q=2.5e-07, c_sp=1, drain_area_threshold=None):\n",
    "                        \n",
    "        self._dem = dem\n",
    "        self._runoff = runoff #The rate of excess overland flow production at each node (i.e.,rainfall rate less infiltration).\n",
    "        self._k_Q = k_Q   # Prefactor on A**c_sp to give discharge.\n",
    "        self._c_sp = c_sp # Power on drainage area to give discharge.\n",
    "        self._g = g  #gravidade \n",
    "        self._drain_area_threshold = drain_area_threshold # Limiar da area de drenagem para ser considerado grao tipo 7\n",
    "        self._fluid_density = fluid_density\n",
    "        # profundidade:\n",
    "        # node_Q = self._k_Q * self._runoff * node_A ** self._c_sp\n",
    "        # pgd da formula do shear stress\n",
    "        \n",
    "    def discrete_shear_stress(self, ss): # divisao do shear stress para escala de tamnhos da escala de Roux (1998)\n",
    "    \n",
    "        if ss <= 0:\n",
    "            return 0\n",
    "        if ss <= 1:\n",
    "            return 1\n",
    "        if ss <= 1.2710:\n",
    "            return 1.2710\n",
    "        if ss <= 1.7423:\n",
    "            return 1.7423\n",
    "        if ss <= 2.1964:\n",
    "            return 2.1964\n",
    "        if ss <= 2.8541:\n",
    "            return 2.8541\n",
    "        if ss <= 6.6074:\n",
    "            return 6.6074\n",
    "        if ss <= 14.503:\n",
    "            return 14.503\n",
    "        if ss <= 29.138:\n",
    "            return 29.138\n",
    "        if ss <= 58.275:\n",
    "            return 58.275\n",
    "\n",
    "        return 60\n",
    "    \n",
    "    def get_size_grain(self, shear_stress):\n",
    "        if shear_stress == 0:\n",
    "            return 0.0031\n",
    "        if shear_stress == 1:\n",
    "            return 0.004\n",
    "        if shear_stress == 1.2710:\n",
    "            return 0.0063\n",
    "        if shear_stress == 1.7423:\n",
    "            return 0.0125\n",
    "        if shear_stress == 2.1964:\n",
    "            return 0.0250\n",
    "        if shear_stress == 2.8541:\n",
    "            return 0.0500\n",
    "        if shear_stress == 6.6074:\n",
    "            return 0.1\n",
    "        if shear_stress == 14.503:\n",
    "            return 0.2\n",
    "        if shear_stress == 29.138:\n",
    "            return 0.4\n",
    "        if shear_stress == 58.275:\n",
    "            return 0.8\n",
    "        \n",
    "        return 100\n",
    "        \n",
    "    \n",
    "    def classify_grain(self, size):\n",
    "        if size <= 0.004:\n",
    "            return 1\n",
    "        if size <= 0.062:\n",
    "            return 2\n",
    "        if size <= 0.25:\n",
    "            return 3\n",
    "        if size <= 0.5:\n",
    "            return 4\n",
    "        if size <= 1:\n",
    "            return 5\n",
    "        if size <= 4:\n",
    "            return 6\n",
    "\n",
    "        return 7\n",
    "    \n",
    "    def add_grid_to_dem(self, mg, name, value):\n",
    "        if name in mg.at_node.keys():\n",
    "            mg.delete_field(\"node\",name)\n",
    "                \n",
    "        mg.add_field(name, value, at=\"node\", copy=True, clobber=False)\n",
    "        \n",
    "    def calc_shear_stress(self, slope, profundidade):\n",
    "        # pgd da formula do shear stress\n",
    "        return self._fluid_density * self._g * profundidade * slope \n",
    "    \n",
    "    # Area com baixo acumulo será arbitrariamente um grao tipo 7\n",
    "    def update_drainage_area(self, da, slope):\n",
    "        _da = copy.copy(da)\n",
    "        sc = self.calc_critical_slope(da)\n",
    "        _da[sc < slope] = 9999999\n",
    "        return _da\n",
    "    \n",
    "#     def update_drainage_area(self, da, treshold):\n",
    "#         _da = copy.copy(da)\n",
    "#         _da[_da < treshold] = 9999999\n",
    "#         return _da\n",
    "    \n",
    "    def calc_critical_slope(self, da):\n",
    "        b = 0.000008\n",
    "        k = 0.001\n",
    "        p = 0.3\n",
    "        m = 0.5\n",
    "        n = 1\n",
    "        \n",
    "        Sc = ((b/k) * da**(p-m))** 0.5\n",
    "        Sc[Sc == np.inf] = 0\n",
    "        \n",
    "        return Sc \n",
    "    \n",
    "    def calc_profundidade(self, A, c, f, k):\n",
    "        return c * (k*A) ** f\n",
    "         \n",
    "        \n",
    "    def run_one_step(self):\n",
    "        dem = self._dem\n",
    "        node_z = dem.at_node[\"topographic__elevation\"] #elevaçao\n",
    "        node_S = dem.at_node[\"topographic__steepest_slope\"] #slope, vem do flow accumulator(?)\n",
    "        \n",
    "#         if self._drain_area_threshold is None:\n",
    "#             node_A = dem.at_node[\"drainage_area\"]\n",
    "#         else:\n",
    "#             node_A = self.update_drainage_area(dem.at_node[\"drainage_area\"], treshold=self._drain_area_threshold)\n",
    "        \n",
    "        \n",
    "        node_A = dem.at_node[\"drainage_area\"]        \n",
    "        node_A = self.update_drainage_area(dem.at_node[\"drainage_area\"], node_S)\n",
    "\n",
    "        \n",
    "        \n",
    "        # profundidade\n",
    "        node_Q = self._k_Q * node_A  # Calcula profundidade, parte que tem a ver com PAR_1, PAR_2 \n",
    "        \n",
    "        profundidade = self._runoff * node_Q ** self._c_sp\n",
    "        #shear stress usando a profundidade\n",
    "#         shear_stress_prefactor_timesAparts = (self._shear_stress_coeficient_p1 * node_Q ** self._shear_stress_coeficient_p2)\n",
    "        counter=0\n",
    "        \n",
    "        while 1:\n",
    "            \n",
    "            #funçao clip atribui o valor zero a valores negativos que venham a ser encontrados\n",
    "            #depressoes podem possuir valores negativos (lago, fosso, buraco negro)\n",
    "            downward_slopes = node_S.clip(0.0) \n",
    "            slopes_tothe07 = downward_slopes ** 0.5 # nao sei pq\n",
    "#             shear_stress = shear_stress_prefactor_timesAparts * slopes_tothe07 #multiplica o pre fator do shear stress pelo slope e calcula o shear stress\n",
    "            shear_stress = self.calc_shear_stress(slopes_tothe07, profundidade)\n",
    "            shear_stress_discrete = list(map(self.discrete_shear_stress, shear_stress)) #classifica os resultados anteriores com o intervalo definido\n",
    "            \n",
    "            grains_size = list(map(self.get_size_grain, shear_stress_discrete))\n",
    "#             d50 = (node_Q * slopes_tothe07) / 0.05            \n",
    "            grain_type = list(map(self.classify_grain, grains_size)) \n",
    "            \n",
    "            #adiciona grid ao DEM\n",
    "            self.add_grid_to_dem(dem, 'shear_stress', shear_stress)\n",
    "            self.add_grid_to_dem(dem, 'shear_stress_discrete', shear_stress_discrete)\n",
    "            self.add_grid_to_dem(dem, 'grain_type', grain_type)\n",
    "                   \n",
    "           \n",
    "            \n",
    "#             self.d = node_Q\n",
    "#             self.S = slopes_tothe07\n",
    "            \n",
    "            break_flag = True\n",
    "            if break_flag:\n",
    "                    break\n",
    "                    "
   ]
  },
  {
   "cell_type": "markdown",
   "metadata": {},
   "source": [
    "## instantiate components"
   ]
  },
  {
   "cell_type": "code",
   "execution_count": null,
   "metadata": {},
   "outputs": [],
   "source": [
    "#fda = FlowAccumulator(mg, 'topographic__elevation') #cria o componente flow accumulator\n",
    "drain_area_threshold = 0.1 * 10**8\n",
    "css = Shear_Stress(mg, drain_area_threshold=drain_area_threshold, c_sp=0.30, runoff=0.63) #cria o componente shear stress\n",
    "fr = FlowAccumulator(mg, flow_director='D8') \n",
    "df = DepressionFinderAndRouter(mg)\n",
    "# sp = FastscapeEroder(mg, K_sp=0.001, m_sp=0.5, n_sp=1.0, threshold_sp= 0.0) #k eh erodibilidade, usar 0.0004\n",
    "# #FastscapeEroder(grid, K_sp=0.001, m_sp=0.5, n_sp=1.0, threshold_sp=0.0, discharge_field='drainage_area', erode_flooded_nodes=True)\n",
    "# ed = ErosionDeposition(\n",
    "#       mg,\n",
    "#       K=0.00001, # Erodibility for substrate (units vary)valor anterior = 0.00001 \n",
    "#       v_s=0.005, # Effective settling velocity for chosen grain size metric [L/T].\n",
    "#       m_sp=0.5, # Discharge exponent (units vary) usar valores do fast scape (valor anterior = 0.5)\n",
    "#       n_sp = 1.0, #Slope exponent (units vary) usar valores do fast scape\n",
    "#       sp_crit=0) #Critical stream power to erode substrate [E/(TL^2)] usar valores do fast scape\n",
    "# lin_diffuse = LinearDiffuser (mg, linear_diffusivity = 0.1, deposit=False)\n"
   ]
  },
  {
   "cell_type": "markdown",
   "metadata": {},
   "source": [
    "## Run Components"
   ]
  },
  {
   "cell_type": "code",
   "execution_count": null,
   "metadata": {},
   "outputs": [],
   "source": [
    "uplift_rate = 1\n",
    "time_step = 0 \n",
    "fr.run_one_step()\n",
    "#sp.run_one_step(time_step) # atençao: apenas para rodar antes do erosion deposition\n",
    "for i in range(0,1):\n",
    "    print(i)\n",
    "#    fr.run_one_step()\n",
    "    df.map_depressions()\n",
    "    flooded = np.where(df.flood_status==3)[0] # ver pra que serve\n",
    "#    ed.run_one_step(time_step)\n",
    "    mg.at_node['topographic__elevation'][mg.status_at_node == mg.BC_NODE_IS_CORE] += time_step * uplift_rate\n",
    "    #no artigo ele usa em anos mas esta de acordo com todos os outros parametros em anos tbm \n",
    "#    lin_diffuse.run_one_step(time_step) \n",
    "    css.run_one_step()\n",
    "    if i == 0 or i == 10 or i == 2 or i == 50 or i == 8 or i == 11 or i==51 or i==1000:\n",
    "        files = write_esri_ascii(\"./testes_dispersao/\"+test_name+\"/\"+str(i)+\".asc\", mg)\n"
   ]
  },
  {
   "cell_type": "code",
   "execution_count": null,
   "metadata": {},
   "outputs": [],
   "source": [
    "mg.at_node.keys()"
   ]
  },
  {
   "cell_type": "code",
   "execution_count": null,
   "metadata": {},
   "outputs": [],
   "source": [
    "landlab.plot.imshow.imshow_grid_at_node(mg, 'drainage_area')"
   ]
  },
  {
   "cell_type": "code",
   "execution_count": null,
   "metadata": {},
   "outputs": [],
   "source": [
    "(mg, z) = read_esri_ascii(\"./testes_dispersao/\"+test_name+\"/0_grain_type.asc\", name='grain_type')\n",
    "(mg_100, z) = read_esri_ascii(\"./testes_dispersao/\"+test_name+\"/0_grain_type.asc\", name='grain_type')\n",
    "# mg.at_node.keys()#lista os grids contidos no DEM"
   ]
  },
  {
   "cell_type": "code",
   "execution_count": null,
   "metadata": {},
   "outputs": [],
   "source": [
    "landlab.plot.imshow.imshow_grid_at_node(mg, 'grain_type', cmap='mcmap')"
   ]
  },
  {
   "cell_type": "code",
   "execution_count": null,
   "metadata": {},
   "outputs": [],
   "source": [
    "landlab.plot.imshow.imshow_grid_at_node(mg, 'grain_type', cmap='mcmap')\n"
   ]
  },
  {
   "cell_type": "markdown",
   "metadata": {},
   "source": [
    "# d = qs * (vs / q)\n",
    "\n",
    "vs = 1\n",
    "qs = mg.at_node[\"sediment__flux\"]\n",
    "q = mg.at_node[\"surface_water__discharge\"]\n",
    "\n",
    "d = qs* (vs / q)"
   ]
  },
  {
   "cell_type": "code",
   "execution_count": null,
   "metadata": {},
   "outputs": [],
   "source": [
    "mg.add_field(\"deposition_rate\", d, at=\"node\", copy=True, clobber=False)"
   ]
  },
  {
   "cell_type": "code",
   "execution_count": null,
   "metadata": {},
   "outputs": [],
   "source": [
    "landlab.plot.imshow.imshow_grid_at_node(mg, 'deposition_rate')"
   ]
  },
  {
   "cell_type": "code",
   "execution_count": null,
   "metadata": {},
   "outputs": [],
   "source": [
    "da = mg.at_node['drainage_area']\n",
    "len(da[da == 0]), len(da)"
   ]
  },
  {
   "cell_type": "code",
   "execution_count": null,
   "metadata": {},
   "outputs": [],
   "source": [
    "(mg, z) = read_esri_ascii(\"./testes_dispersao/ed_time_step_10/10_topographic__elevation.asc\", name=\"topographic__elevation\")\n",
    "mg.at_node.keys()#lista os grids contidos no DEM\n",
    "landlab.plot.imshow.imshow_grid_at_node(mg, 'topographic__elevation')"
   ]
  },
  {
   "cell_type": "markdown",
   "metadata": {},
   "source": [
    "## Plot\n",
    "\n",
    "> https://www.geodose.com/2019/09/3d-terrain-modelling-in-python.html\n",
    "\n",
    ">https://stackoverflow.com/questions/33287620/creating-a-smooth-surface-plot-from-topographic-data-using-matplotlib"
   ]
  },
  {
   "cell_type": "code",
   "execution_count": null,
   "metadata": {},
   "outputs": [],
   "source": [
    "from scipy.interpolate import griddata"
   ]
  },
  {
   "cell_type": "code",
   "execution_count": null,
   "metadata": {},
   "outputs": [],
   "source": [
    "v = mg.at_node['topographic__elevation'].reshape(987, 1267)\n",
    "lines, col = v.shape \n",
    "\n",
    "\n",
    "X = np.array(list(range(lines)))\n",
    "Y = np.array(list(range(lines)))\n",
    "\n",
    "Z = np.rint(z[0:lines])"
   ]
  },
  {
   "cell_type": "code",
   "execution_count": null,
   "metadata": {},
   "outputs": [],
   "source": [
    "fig = plt.figure()\n",
    "ax = plt.axes(projection='3d')\n",
    "\n",
    "ax.view_init(30, 30)\n",
    "\n",
    "step = int((len(Z)/3))\n",
    "xi = np.linspace(X.min(),X.max(),step)\n",
    "yi = np.linspace(Y.min(),Y.max(),step)\n",
    "zi = griddata((X, Y), Z, (xi[None,:], yi[:,None]), method='nearest')\n",
    "\n",
    "xig, yig = np.meshgrid(xi, yi)\n",
    "\n",
    "ax.plot_surface(xig, yig, zi, cmap='gist_earth')\n"
   ]
  },
  {
   "cell_type": "markdown",
   "metadata": {},
   "source": [
    "## Plot results"
   ]
  },
  {
   "cell_type": "code",
   "execution_count": null,
   "metadata": {},
   "outputs": [],
   "source": [
    "landlab.plot.imshow.imshow_grid_at_node(mg,'shear_stress_discrete', cmap='Dark2')"
   ]
  },
  {
   "cell_type": "code",
   "execution_count": null,
   "metadata": {},
   "outputs": [],
   "source": [
    "landlab.plot.imshow.imshow_grid_at_node(mg,'topographic__elevation', cmap='terrain')"
   ]
  },
  {
   "cell_type": "markdown",
   "metadata": {},
   "source": [
    "## Run again"
   ]
  },
  {
   "cell_type": "code",
   "execution_count": null,
   "metadata": {},
   "outputs": [],
   "source": [
    "fda.run_one_step()\n",
    "sp.run_one_step(dt=100000)\n",
    "css.run_one_step() #dt em anos"
   ]
  },
  {
   "cell_type": "code",
   "execution_count": null,
   "metadata": {},
   "outputs": [],
   "source": [
    "landlab.plot.imshow.imshow_grid_at_node(mg,'shear_stress_discrete', cmap='Dark2')"
   ]
  },
  {
   "cell_type": "code",
   "execution_count": null,
   "metadata": {},
   "outputs": [],
   "source": [
    "landlab.plot.imshow.imshow_grid_at_node(mg,'topographic__elevation', cmap='terrain')"
   ]
  },
  {
   "cell_type": "code",
   "execution_count": null,
   "metadata": {},
   "outputs": [],
   "source": []
  }
 ],
 "metadata": {
  "kernelspec": {
   "display_name": "Python 3 (ipykernel)",
   "language": "python",
   "name": "python3"
  },
  "language_info": {
   "codemirror_mode": {
    "name": "ipython",
    "version": 3
   },
   "file_extension": ".py",
   "mimetype": "text/x-python",
   "name": "python",
   "nbconvert_exporter": "python",
   "pygments_lexer": "ipython3",
   "version": "3.8.10"
  }
 },
 "nbformat": 4,
 "nbformat_minor": 4
}
