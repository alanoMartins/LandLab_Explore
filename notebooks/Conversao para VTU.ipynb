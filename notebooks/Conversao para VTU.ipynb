{
 "cells": [
  {
   "cell_type": "code",
   "execution_count": 1,
   "metadata": {},
   "outputs": [],
   "source": [
    "import continentais.aux_tools as auxt"
   ]
  },
  {
   "cell_type": "code",
   "execution_count": 2,
   "metadata": {},
   "outputs": [
    {
     "name": "stdout",
     "output_type": "stream",
     "text": [
      "*** Creating .tif files...\n",
      "*** Creating ./raster_dispersao/teste_360/10_grain_type.tif...\n",
      "*** Creating ./raster_dispersao/teste_360/11_grain_type.tif...\n",
      "*** Creating .vtu files...\n",
      "*** Creating volume_10.vtu...\n",
      "****** Correcting DEM!\n",
      "****** Correcting DEM - Done!\n",
      "****** Creating Stamps!\n",
      "****** Calculating Prisms!\n",
      "****** Calculating Prisms - Done!\n",
      "****** Creating Volume!\n",
      "****** Creating Volume - Done!\n",
      "****** Saving ./vtk_dispersao/teste_360/volume_10.vtu!\n",
      "****** Saving ./vtk_dispersao/teste_360/volume_10.vtu - Done!\n",
      "*** Creating volume_11.vtu...\n",
      "****** Correcting DEM!\n",
      "****** Correcting DEM - Done!\n",
      "****** Creating Stamps!\n",
      "****** Calculating Prisms!\n",
      "****** Calculating Prisms - Done!\n",
      "****** Creating Volume!\n",
      "****** Creating Volume - Done!\n",
      "****** Saving ./vtk_dispersao/teste_360/volume_11.vtu!\n",
      "****** Saving ./vtk_dispersao/teste_360/volume_11.vtu - Done!\n"
     ]
    }
   ],
   "source": [
    "# Pasta para arquivos asc input\n",
    "ORIGINAL_PATH = './testes_dispersao/teste_360/'\n",
    "# Pasta de tiff - output\n",
    "RASTER_PATH = './raster_dispersao/teste_360/'\n",
    "# Pasta de vtk - output\n",
    "VTK_PATH = './vtk_dispersao/teste_360/'\n",
    "\n",
    "# Parameters\n",
    "dem_suffix = 'topographic__elevation' # Sufixo do arquivo asc\n",
    "stamp_suffix = 'grain_type' # Perguntar\n",
    "prefixes = ['10','11']  #,'40', '60', '80', '100', '500', '1000'] # Sufixo representa passo de tempo\n",
    "\n",
    "# Workflow\n",
    "auxt.save_tifs(ORIGINAL_PATH, RASTER_PATH, dem_suffix, stamp_suffix, prefixes)\n",
    "auxt.create_volumes(RASTER_PATH,\n",
    "                    VTK_PATH,\n",
    "                    dem_suffix,\n",
    "                    stamp_suffix,\n",
    "                    prefixes,\n",
    "                    True)\n"
   ]
  },
  {
   "cell_type": "code",
   "execution_count": 3,
   "metadata": {},
   "outputs": [
    {
     "name": "stdout",
     "output_type": "stream",
     "text": [
      "*** Creating .tif files...\n",
      "*** Creating ./raster_dispersao/teste_360/10_grain_type.tif...\n",
      "*** Creating ./raster_dispersao/teste_360/11_grain_type.tif...\n",
      "*** Creating .vtu files...\n",
      "*** Creating volume_10.vtu...\n",
      "****** Correcting DEM!\n",
      "****** Correcting DEM - Done!\n",
      "****** Creating Stamps!\n",
      "****** Calculating Prisms!\n",
      "****** Calculating Prisms - Done!\n",
      "****** Creating Volume!\n",
      "****** Creating Volume - Done!\n",
      "****** Saving ./vtk_dispersao/teste_360/volume_10.vtu!\n",
      "****** Saving ./vtk_dispersao/teste_360/volume_10.vtu - Done!\n",
      "*** Creating volume_11.vtu...\n",
      "****** Correcting DEM!\n",
      "****** Correcting DEM - Done!\n",
      "****** Creating Stamps!\n",
      "****** Calculating Prisms!\n",
      "****** Calculating Prisms - Done!\n",
      "****** Creating Volume!\n",
      "****** Creating Volume - Done!\n",
      "****** Saving ./vtk_dispersao/teste_360/volume_11.vtu!\n",
      "****** Saving ./vtk_dispersao/teste_360/volume_11.vtu - Done!\n"
     ]
    }
   ],
   "source": [
    "# Workflow\n",
    "auxt.save_tifs(ORIGINAL_PATH, RASTER_PATH, dem_suffix, stamp_suffix, prefixes)\n",
    "auxt.create_volumes(RASTER_PATH,\n",
    "                    VTK_PATH,\n",
    "                    dem_suffix,\n",
    "                    stamp_suffix,\n",
    "                    prefixes,\n",
    "                    True)\n"
   ]
  },
  {
   "cell_type": "code",
   "execution_count": null,
   "metadata": {},
   "outputs": [],
   "source": []
  },
  {
   "cell_type": "code",
   "execution_count": null,
   "metadata": {},
   "outputs": [],
   "source": []
  },
  {
   "cell_type": "code",
   "execution_count": null,
   "metadata": {},
   "outputs": [],
   "source": []
  }
 ],
 "metadata": {
  "kernelspec": {
   "display_name": "Python 3",
   "language": "python",
   "name": "python3"
  },
  "language_info": {
   "codemirror_mode": {
    "name": "ipython",
    "version": 3
   },
   "file_extension": ".py",
   "mimetype": "text/x-python",
   "name": "python",
   "nbconvert_exporter": "python",
   "pygments_lexer": "ipython3",
   "version": "3.8.2"
  }
 },
 "nbformat": 4,
 "nbformat_minor": 4
}
