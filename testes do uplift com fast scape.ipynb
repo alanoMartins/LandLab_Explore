{
 "cells": [
  {
   "cell_type": "code",
   "execution_count": 2,
   "metadata": {},
   "outputs": [],
   "source": [
    "from landlab.io import read_esri_ascii\n",
    "import landlab\n",
    "import matplotlib.pyplot as plt\n",
    "import statistics\n",
    "import numpy as np\n",
    "%matplotlib inline"
   ]
  },
  {
   "cell_type": "code",
   "execution_count": 8,
   "metadata": {},
   "outputs": [],
   "source": [
    "(dem_crop, _) = read_esri_ascii(\"./save_asc/testes/ascii_cropadotest.asc\", name=\"topographic__elevation\")\n",
    "\n",
    "(dem_fse_uplift_1_10, _) = read_esri_ascii(\"./save_asc/uplift_fast_scape/ascii_fse_uplift_1_18_8_1000_topographic__elevation.asc\", name=\"topographic__elevation\")\n",
    "(dem_fse_uplift_1_20, _) = read_esri_ascii(\"./save_asc/uplift_fast_scape/ascii_fse_uplift_1_18_8_2000_topographic__elevation.asc\", name=\"topographic__elevation\")\n",
    "(dem_fse_uplift_1_40, _) = read_esri_ascii(\"./save_asc/uplift_fast_scape/ascii_fse_uplift_1_18_8_4000_topographic__elevation.asc\", name=\"topographic__elevation\")\n",
    "\n",
    "(dem_fse_uplift_1_60, _) = read_esri_ascii(\"./save_asc/uplift_fast_scape/ascii_fse_uplift_1_18_8_6000_topographic__elevation.asc\", name=\"topographic__elevation\")\n",
    "(dem_fse_uplift_1_80, _) = read_esri_ascii(\"./save_asc/uplift_fast_scape/ascii_fse_uplift_1_18_8_8000_topographic__elevation.asc\", name=\"topographic__elevation\")\n",
    "#(dem_fse_uplift_1_100, _) = read_esri_ascii(\"./save_asc/uplift_fast_scape/ascii_fse_uplift_1_18_8_10000_topographic__elevation.asc\", name=\"topographic__elevation\")\n"
   ]
  },
  {
   "cell_type": "markdown",
   "metadata": {},
   "source": [
    "## teste 1 fast escape \n",
    " ### uplift_rate = 0.0001\n",
    " parametros: \n",
    " (mg, K_sp=0.0004, m_sp=0.5, n_sp=1.0, threshold_sp= 0.0) \n",
    "  com time step =1000"
   ]
  },
  {
   "cell_type": "code",
   "execution_count": 10,
   "metadata": {},
   "outputs": [],
   "source": [
    "dems = [dem_fse_uplift_1_10, dem_fse_uplift_1_20, dem_fse_uplift_1_40, dem_fse_uplift_1_60, dem_fse_uplift_1_80]"
   ]
  },
  {
   "cell_type": "code",
   "execution_count": 11,
   "metadata": {},
   "outputs": [],
   "source": [
    "def mean_top(dem):\n",
    "    arr = dem.at_node['topographic__elevation']\n",
    "    return np.mean(arr)    "
   ]
  },
  {
   "cell_type": "code",
   "execution_count": 12,
   "metadata": {},
   "outputs": [
    {
     "data": {
      "text/plain": [
       "[155.97536249999516,\n",
       " 255.97536249998976,\n",
       " 455.97536250003475,\n",
       " 655.97536250008045,\n",
       " 855.97536250012536]"
      ]
     },
     "execution_count": 12,
     "metadata": {},
     "output_type": "execute_result"
    }
   ],
   "source": [
    "means = list(map(mean_top, dems))\n",
    "means"
   ]
  },
  {
   "cell_type": "code",
   "execution_count": 70,
   "metadata": {},
   "outputs": [
    {
     "data": {
      "text/plain": [
       "[<matplotlib.lines.Line2D at 0x7f8b5b6f5e80>]"
      ]
     },
     "execution_count": 70,
     "metadata": {},
     "output_type": "execute_result"
    },
    {
     "data": {
      "image/png": "[encoded data removed]",
      "text/plain": [
       "<Figure size 432x288 with 1 Axes>"
      ]
     },
     "metadata": {
      "needs_background": "light"
     },
     "output_type": "display_data"
    }
   ],
   "source": [
    "avgs = means\n",
    "vetor_eixo = [ 1, 2, 4, 6, 8, 10] \n",
    "plt.plot(vetor_eixo, avgs)"
   ]
  },
  {
   "cell_type": "code",
   "execution_count": 20,
   "metadata": {},
   "outputs": [
    {
     "data": {
      "text/plain": [
       "[155.97536249999516,\n",
       " 255.97536249998976,\n",
       " 455.97536250003475,\n",
       " 655.97536250008045,\n",
       " 855.97536250012536]"
      ]
     },
     "execution_count": 20,
     "metadata": {},
     "output_type": "execute_result"
    }
   ],
   "source": [
    "avgs"
   ]
  },
  {
   "cell_type": "markdown",
   "metadata": {},
   "source": [
    "## teste 2 fast escape \n",
    " ### uplift_rate = 0.001\n",
    " parametros: \n",
    " (mg, K_sp=0.0004, m_sp=0.5, n_sp=1.0, threshold_sp= 0.0) \n",
    "  com time step =1000"
   ]
  },
  {
   "cell_type": "code",
   "execution_count": 93,
   "metadata": {},
   "outputs": [],
   "source": [
    "def get_dem(num_test):\n",
    "    (dem_10, _) = read_esri_ascii(\"./save_asc/uplift_fast_scape/ascii_fse_uplift_\"+str(num_test)+\"_18_8_10_topographic__elevation.asc\", name=\"topographic__elevation\")\n",
    "    (dem_20, _) = read_esri_ascii(\"./save_asc/uplift_fast_scape/ascii_fse_uplift_\"+str(num_test)+\"_18_8_20_topographic__elevation.asc\", name=\"topographic__elevation\")\n",
    "    (dem_40, _) = read_esri_ascii(\"./save_asc/uplift_fast_scape/ascii_fse_uplift_\"+str(num_test)+\"_18_8_40_topographic__elevation.asc\", name=\"topographic__elevation\")\n",
    "\n",
    "    (dem_60, _) = read_esri_ascii(\"./save_asc/uplift_fast_scape/ascii_fse_uplift_\"+str(num_test)+\"_18_8_60_topographic__elevation.asc\", name=\"topographic__elevation\")\n",
    "    (dem_80, _) = read_esri_ascii(\"./save_asc/uplift_fast_scape/ascii_fse_uplift_\"+str(num_test)+\"_18_8_80_topographic__elevation.asc\", name=\"topographic__elevation\")\n",
    "    (dem_100, _) = read_esri_ascii(\"./save_asc/uplift_fast_scape/ascii_fse_uplift_\"+str(num_test)+\"_18_8_100_topographic__elevation.asc\", name=\"topographic__elevation\")\n",
    "     \n",
    "    return [dem_10, dem_20, dem_40, dem_60, dem_80, dem_100]"
   ]
  },
  {
   "cell_type": "markdown",
   "metadata": {},
   "source": [
    "### teste 3 fast escape\n",
    "\n",
    "### uplift_rate = 0.002\n",
    "\n",
    "parametros: (mg, K_sp=0.0004, m_sp=0.5, n_sp=1.0, threshold_sp= 0.0) com time step =1000"
   ]
  },
  {
   "cell_type": "code",
   "execution_count": 109,
   "metadata": {},
   "outputs": [],
   "source": [
    "def get_dem_folder(folder_name):\n",
    "    loops = [1000, 2000, 4000, 6000, 8000, 10000]\n",
    "    dems = []\n",
    "    folder_parent = \"save_asc\"\n",
    "    \n",
    "    for loop in loops:\n",
    "        file_name = str(loop) + \"_topographic__elevation.asc\"\n",
    "        (dem, _) = read_esri_ascii(\"./{folder_parent}/{folder_name}/{file_name}\".format(folder_parent=folder_parent, folder_name=folder_name, file_name=file_name), name=\"topographic__elevation\")\n",
    "        dems.append(dem)\n",
    "     \n",
    "    return dems"
   ]
  },
  {
   "cell_type": "code",
   "execution_count": 110,
   "metadata": {},
   "outputs": [],
   "source": [
    "dems = get_dem_folder(\"fast_scap_uplift_0,002_18_8\")\n",
    "# dems_sed = get_dem(\"sed_up\")"
   ]
  },
  {
   "cell_type": "code",
   "execution_count": 111,
   "metadata": {},
   "outputs": [],
   "source": [
    "#dems = get_dem(2)"
   ]
  },
  {
   "cell_type": "code",
   "execution_count": 112,
   "metadata": {},
   "outputs": [],
   "source": [
    "means = []\n",
    "for dem in dems:\n",
    "    means.append(mean_top(dem))\n",
    "    "
   ]
  },
  {
   "cell_type": "code",
   "execution_count": 113,
   "metadata": {},
   "outputs": [
    {
     "data": {
      "text/plain": [
       "[<matplotlib.lines.Line2D at 0x7f8b46add668>]"
      ]
     },
     "execution_count": 113,
     "metadata": {},
     "output_type": "execute_result"
    },
    {
     "data": {
      "image/png": "[encoded data removed]",
      "text/plain": [
       "<Figure size 432x288 with 1 Axes>"
      ]
     },
     "metadata": {
      "needs_background": "light"
     },
     "output_type": "display_data"
    }
   ],
   "source": [
    "vetor_eixo = [ 1, 2, 4, 6, 8, 10] \n",
    "plt.plot(vetor_eixo, means,  marker='o')"
   ]
  },
  {
   "cell_type": "code",
   "execution_count": 101,
   "metadata": {},
   "outputs": [
    {
     "data": {
      "text/plain": [
       "array([ 503.        ,  178.00003077,  178.00000586,  178.00002129,\n",
       "        178.00000433,  178.00000413,  178.00000322,  178.00000014,\n",
       "        178.0000177 ,  178.00001998])"
      ]
     },
     "execution_count": 101,
     "metadata": {},
     "output_type": "execute_result"
    }
   ],
   "source": [
    "dems[5].at_node['topographic__elevation'][400:410]"
   ]
  },
  {
   "cell_type": "code",
   "execution_count": 98,
   "metadata": {},
   "outputs": [
    {
     "data": {
      "image/png": "[encoded data removed]",
      "text/plain": [
       "<Figure size 432x288 with 2 Axes>"
      ]
     },
     "metadata": {
      "needs_background": "light"
     },
     "output_type": "display_data"
    }
   ],
   "source": [
    "landlab.plot.imshow.imshow_grid_at_node(dems[5],'topographic__elevation')"
   ]
  }
 ],
 "metadata": {
  "kernelspec": {
   "display_name": "Python 3",
   "language": "python",
   "name": "python3"
  },
  "language_info": {
   "codemirror_mode": {
    "name": "ipython",
    "version": 3
   },
   "file_extension": ".py",
   "mimetype": "text/x-python",
   "name": "python",
   "nbconvert_exporter": "python",
   "pygments_lexer": "ipython3",
   "version": "3.6.9"
  }
 },
 "nbformat": 4,
 "nbformat_minor": 4
}
