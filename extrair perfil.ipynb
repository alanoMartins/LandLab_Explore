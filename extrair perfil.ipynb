{
 "cells": [
  {
   "cell_type": "code",
   "execution_count": 1,
   "metadata": {},
   "outputs": [],
   "source": [
    "import os\n",
    "import numpy as np\n",
    "from landlab import RasterModelGrid\n",
    "import landlab\n",
    "from landlab.io import read_esri_ascii\n",
    "from landlab.io.esri_ascii import write_esri_ascii\n",
    "import matplotlib.pyplot as plt\n",
    "%matplotlib inline"
   ]
  },
  {
   "cell_type": "code",
   "execution_count": null,
   "metadata": {},
   "outputs": [],
   "source": []
  },
  {
   "cell_type": "code",
   "execution_count": 2,
   "metadata": {},
   "outputs": [],
   "source": [
    "def get_dem_folder(folder_name, loops):\n",
    "    dems = []\n",
    "    folder_parent = \"testes_dispersao\"\n",
    "    \n",
    "    for loop in loops:\n",
    "        file_name = str(loop) + \"_d50.asc\"\n",
    "        (dem, _) = read_esri_ascii(\"./{folder_parent}/{folder_name}/{file_name}\".format(folder_parent=folder_parent, folder_name=folder_name, file_name=file_name), name=\"d50\")\n",
    "        dems.append(dem)\n",
    "     \n",
    "    return dems"
   ]
  },
  {
   "cell_type": "code",
   "execution_count": 3,
   "metadata": {},
   "outputs": [],
   "source": [
    "loops = [10, 20, 40, 60, 80, 100]\n",
    "demzinhos = get_dem_folder(\"ed_time_step_10\", loops)"
   ]
  },
  {
   "cell_type": "code",
   "execution_count": 4,
   "metadata": {},
   "outputs": [
    {
     "data": {
      "text/plain": [
       "RasterModelGrid((987, 1267), xy_spacing=(90.0, 90.0), xy_of_lower_left=(0.0, 0.0))"
      ]
     },
     "execution_count": 4,
     "metadata": {},
     "output_type": "execute_result"
    }
   ],
   "source": [
    "demzinhos[0]"
   ]
  },
  {
   "cell_type": "code",
   "execution_count": 5,
   "metadata": {},
   "outputs": [],
   "source": [
    "d50s = list(map(lambda x: x.at_node[\"d50\"], demzinhos))"
   ]
  },
  {
   "cell_type": "code",
   "execution_count": 86,
   "metadata": {},
   "outputs": [],
   "source": [
    "well_x = 942\n",
    "well_y = 1110"
   ]
  },
  {
   "cell_type": "code",
   "execution_count": 87,
   "metadata": {},
   "outputs": [
    {
     "data": {
      "text/plain": [
       "1.0"
      ]
     },
     "execution_count": 87,
     "metadata": {},
     "output_type": "execute_result"
    }
   ],
   "source": [
    "d = d50s[0].reshape(987, 1267)\n",
    "d[0][1]"
   ]
  },
  {
   "cell_type": "code",
   "execution_count": 88,
   "metadata": {},
   "outputs": [
    {
     "data": {
      "text/plain": [
       "[4.0, 4.0, 4.0, 4.0, 5.0, 5.0]"
      ]
     },
     "execution_count": 88,
     "metadata": {},
     "output_type": "execute_result"
    }
   ],
   "source": [
    "well = []\n",
    "for d50 in d50s:\n",
    "    well.append(d50.reshape(987, 1267)[well_x][well_y])\n",
    "well"
   ]
  },
  {
   "cell_type": "code",
   "execution_count": 89,
   "metadata": {},
   "outputs": [],
   "source": [
    "years = [10, 20, 40, 60, 80, 100]\n",
    "# well = [1, 5, 7, 3, 1, 2]"
   ]
  },
  {
   "cell_type": "code",
   "execution_count": 90,
   "metadata": {},
   "outputs": [],
   "source": [
    "def color_by_grain(grain):\n",
    "    if grain == 0:\n",
    "        return 'r'\n",
    "    if grain == 1:\n",
    "        return 'b'\n",
    "    if grain == 2:\n",
    "        return 'g'\n",
    "    if grain == 3:\n",
    "        return 'c'\n",
    "    if grain == 4:\n",
    "        return 'm'\n",
    "    if grain == 5:\n",
    "        return 'y'\n",
    "    if grain == 6:\n",
    "        return 'k'\n",
    "    if grain == 7:\n",
    "        return 'burlywood'\n",
    "    "
   ]
  },
  {
   "cell_type": "code",
   "execution_count": 91,
   "metadata": {},
   "outputs": [
    {
     "name": "stdout",
     "output_type": "stream",
     "text": [
      "[10, 20, 40, 60, 80, 100]\n",
      "[4.0, 4.0, 4.0, 4.0, 5.0, 5.0]\n"
     ]
    },
    {
     "data": {
      "image/png": "[encoded data removed]",
      "text/plain": [
       "<Figure size 432x288 with 1 Axes>"
      ]
     },
     "metadata": {
      "needs_background": "light"
     },
     "output_type": "display_data"
    }
   ],
   "source": [
    "print(years)\n",
    "print(well)\n",
    "\n",
    "width = 0.35   \n",
    "\n",
    "for idx, value in enumerate(years):\n",
    "    if idx == 0:\n",
    "        plt.bar(1, value, color=color_by_grain(well[idx]))\n",
    "    else:\n",
    "        plt.bar(1, value, color=color_by_grain(well[idx]), bottom=years[idx - 1])\n",
    "\n"
   ]
  },
  {
   "cell_type": "code",
   "execution_count": null,
   "metadata": {},
   "outputs": [],
   "source": []
  }
 ],
 "metadata": {
  "kernelspec": {
   "display_name": "Python 3",
   "language": "python",
   "name": "python3"
  },
  "language_info": {
   "codemirror_mode": {
    "name": "ipython",
    "version": 3
   },
   "file_extension": ".py",
   "mimetype": "text/x-python",
   "name": "python",
   "nbconvert_exporter": "python",
   "pygments_lexer": "ipython3",
   "version": "3.6.9"
  }
 },
 "nbformat": 4,
 "nbformat_minor": 4
}
