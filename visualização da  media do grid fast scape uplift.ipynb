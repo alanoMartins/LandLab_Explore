{
 "cells": [
  {
   "cell_type": "code",
   "execution_count": 1,
   "metadata": {},
   "outputs": [],
   "source": [
    "from landlab.io import read_esri_ascii\n",
    "import landlab\n",
    "import matplotlib.pyplot as plt\n",
    "import statistics\n",
    "import numpy as np\n",
    "%matplotlib inline"
   ]
  },
  {
   "cell_type": "code",
   "execution_count": 2,
   "metadata": {},
   "outputs": [
    {
     "ename": "FileNotFoundError",
     "evalue": "[Errno 2] No such file or directory: './save_asc/testes/ascii_cropadotest.asc'",
     "output_type": "error",
     "traceback": [
      "\u001b[0;31m---------------------------------------------------------------------------\u001b[0m",
      "\u001b[0;31mFileNotFoundError\u001b[0m                         Traceback (most recent call last)",
      "\u001b[0;32m<ipython-input-2-a17a834c6ae1>\u001b[0m in \u001b[0;36m<module>\u001b[0;34m\u001b[0m\n\u001b[0;32m----> 1\u001b[0;31m \u001b[0;34m(\u001b[0m\u001b[0mdem_crop\u001b[0m\u001b[0;34m,\u001b[0m \u001b[0m_\u001b[0m\u001b[0;34m)\u001b[0m \u001b[0;34m=\u001b[0m \u001b[0mread_esri_ascii\u001b[0m\u001b[0;34m(\u001b[0m\u001b[0;34m\"./save_asc/testes/ascii_cropadotest.asc\"\u001b[0m\u001b[0;34m,\u001b[0m \u001b[0mname\u001b[0m\u001b[0;34m=\u001b[0m\u001b[0;34m\"topographic__elevation\"\u001b[0m\u001b[0;34m)\u001b[0m\u001b[0;34m\u001b[0m\u001b[0;34m\u001b[0m\u001b[0m\n\u001b[0m\u001b[1;32m      2\u001b[0m \u001b[0;34m\u001b[0m\u001b[0m\n\u001b[1;32m      3\u001b[0m \u001b[0;34m(\u001b[0m\u001b[0mdem_fse_uplift_1_10\u001b[0m\u001b[0;34m,\u001b[0m \u001b[0m_\u001b[0m\u001b[0;34m)\u001b[0m \u001b[0;34m=\u001b[0m \u001b[0mread_esri_ascii\u001b[0m\u001b[0;34m(\u001b[0m\u001b[0;34m\"./save_asc/testes_uplift_fse/ascii_fse_uplift_0,00110_topographic__elevation.asc\"\u001b[0m\u001b[0;34m,\u001b[0m \u001b[0mname\u001b[0m\u001b[0;34m=\u001b[0m\u001b[0;34m\"topographic__elevation\"\u001b[0m\u001b[0;34m)\u001b[0m\u001b[0;34m\u001b[0m\u001b[0;34m\u001b[0m\u001b[0m\n\u001b[1;32m      4\u001b[0m \u001b[0;34m(\u001b[0m\u001b[0mdem_fse_uplift_1_20\u001b[0m\u001b[0;34m,\u001b[0m \u001b[0m_\u001b[0m\u001b[0;34m)\u001b[0m \u001b[0;34m=\u001b[0m \u001b[0mread_esri_ascii\u001b[0m\u001b[0;34m(\u001b[0m\u001b[0;34m\"./save_asc/testes_uplift_fse/ascii_fse_uplift_0,00120_topographic__elevation.asc\"\u001b[0m\u001b[0;34m,\u001b[0m \u001b[0mname\u001b[0m\u001b[0;34m=\u001b[0m\u001b[0;34m\"topographic__elevation\"\u001b[0m\u001b[0;34m)\u001b[0m\u001b[0;34m\u001b[0m\u001b[0;34m\u001b[0m\u001b[0m\n\u001b[1;32m      5\u001b[0m \u001b[0;34m(\u001b[0m\u001b[0mdem_fse_uplift_1_30\u001b[0m\u001b[0;34m,\u001b[0m \u001b[0m_\u001b[0m\u001b[0;34m)\u001b[0m \u001b[0;34m=\u001b[0m \u001b[0mread_esri_ascii\u001b[0m\u001b[0;34m(\u001b[0m\u001b[0;34m\"./save_asc/testes_uplift_fse/ascii_fse_uplift_0,00130_topographic__elevation.asc\"\u001b[0m\u001b[0;34m,\u001b[0m \u001b[0mname\u001b[0m\u001b[0;34m=\u001b[0m\u001b[0;34m\"topographic__elevation\"\u001b[0m\u001b[0;34m)\u001b[0m\u001b[0;34m\u001b[0m\u001b[0;34m\u001b[0m\u001b[0m\n",
      "\u001b[0;32m~/.virtualenvs/geo/lib/python3.8/site-packages/landlab/io/esri_ascii.py\u001b[0m in \u001b[0;36mread_esri_ascii\u001b[0;34m(asc_file, grid, reshape, name, halo)\u001b[0m\n\u001b[1;32m    439\u001b[0m     \u001b[0;31m# _read_asc_header, and _read_asc_data\u001b[0m\u001b[0;34m\u001b[0m\u001b[0;34m\u001b[0m\u001b[0;34m\u001b[0m\u001b[0m\n\u001b[1;32m    440\u001b[0m     \u001b[0;32mif\u001b[0m \u001b[0misinstance\u001b[0m\u001b[0;34m(\u001b[0m\u001b[0masc_file\u001b[0m\u001b[0;34m,\u001b[0m \u001b[0;34m(\u001b[0m\u001b[0mstr\u001b[0m\u001b[0;34m,\u001b[0m \u001b[0mpathlib\u001b[0m\u001b[0;34m.\u001b[0m\u001b[0mPath\u001b[0m\u001b[0;34m)\u001b[0m\u001b[0;34m)\u001b[0m\u001b[0;34m:\u001b[0m\u001b[0;34m\u001b[0m\u001b[0;34m\u001b[0m\u001b[0m\n\u001b[0;32m--> 441\u001b[0;31m         \u001b[0;32mwith\u001b[0m \u001b[0mopen\u001b[0m\u001b[0;34m(\u001b[0m\u001b[0masc_file\u001b[0m\u001b[0;34m,\u001b[0m \u001b[0;34m\"r\"\u001b[0m\u001b[0;34m)\u001b[0m \u001b[0;32mas\u001b[0m \u001b[0mf\u001b[0m\u001b[0;34m:\u001b[0m\u001b[0;34m\u001b[0m\u001b[0;34m\u001b[0m\u001b[0m\n\u001b[0m\u001b[1;32m    442\u001b[0m             \u001b[0mheader\u001b[0m \u001b[0;34m=\u001b[0m \u001b[0mread_asc_header\u001b[0m\u001b[0;34m(\u001b[0m\u001b[0mf\u001b[0m\u001b[0;34m)\u001b[0m\u001b[0;34m\u001b[0m\u001b[0;34m\u001b[0m\u001b[0m\n\u001b[1;32m    443\u001b[0m             \u001b[0mdata\u001b[0m \u001b[0;34m=\u001b[0m \u001b[0m_read_asc_data\u001b[0m\u001b[0;34m(\u001b[0m\u001b[0mf\u001b[0m\u001b[0;34m)\u001b[0m\u001b[0;34m\u001b[0m\u001b[0;34m\u001b[0m\u001b[0m\n",
      "\u001b[0;31mFileNotFoundError\u001b[0m: [Errno 2] No such file or directory: './save_asc/testes/ascii_cropadotest.asc'"
     ]
    }
   ],
   "source": [
    "(dem_crop, _) = read_esri_ascii(\"./save_asc/testes/ascii_cropadotest.asc\", name=\"topographic__elevation\")\n",
    "\n",
    "(dem_fse_uplift_1_10, _) = read_esri_ascii(\"./save_asc/testes_uplift_fse/ascii_fse_uplift_0,00110_topographic__elevation.asc\", name=\"topographic__elevation\")\n",
    "(dem_fse_uplift_1_20, _) = read_esri_ascii(\"./save_asc/testes_uplift_fse/ascii_fse_uplift_0,00120_topographic__elevation.asc\", name=\"topographic__elevation\")\n",
    "(dem_fse_uplift_1_30, _) = read_esri_ascii(\"./save_asc/testes_uplift_fse/ascii_fse_uplift_0,00130_topographic__elevation.asc\", name=\"topographic__elevation\")\n",
    "\n",
    "(dem_fse_uplift_1_100, _) = read_esri_ascii(\"./save_asc/testes_uplift_fse/ascii_fse_uplift_0,001100_topographic__elevation.asc\", name=\"topographic__elevation\")\n",
    "(dem_fse_uplift_1_200, _) = read_esri_ascii(\"./save_asc/testes_uplift_fse/ascii_fse_uplift_0,001200_topographic__elevation.asc\", name=\"topographic__elevation\")\n",
    "(dem_fse_uplift_1_300, _) = read_esri_ascii(\"./save_asc/testes_uplift_fse/ascii_fse_uplift_0,001300_topographic__elevation.asc\", name=\"topographic__elevation\")\n",
    "\n",
    "(dem_fse_uplift_1_350, _) = read_esri_ascii(\"./save_asc/testes_uplift_fse/ascii_fse_uplift_0,001350_topographic__elevation.asc\", name=\"topographic__elevation\")\n",
    "(dem_fse_uplift_1_400, _) = read_esri_ascii(\"./save_asc/testes_uplift_fse/ascii_fse_uplift_0,001400_topographic__elevation.asc\", name=\"topographic__elevation\")\n",
    "(dem_fse_uplift_1_500, _) = read_esri_ascii(\"./save_asc/testes_uplift_fse/ascii_fse_uplift_0,001500_topographic__elevation.asc\", name=\"topographic__elevation\")"
   ]
  },
  {
   "cell_type": "markdown",
   "metadata": {},
   "source": [
    "## teste 1 fast escape \n",
    " parametros: \n",
    " (mg, K_sp=0.0004, m_sp=0.5, n_sp=1.0, threshold_sp= 0.0) \n",
    "  com time step =1000"
   ]
  },
  {
   "cell_type": "code",
   "execution_count": 13,
   "metadata": {},
   "outputs": [
    {
     "data": {
      "text/plain": [
       "194.54932473597006"
      ]
     },
     "execution_count": 13,
     "metadata": {},
     "output_type": "execute_result"
    }
   ],
   "source": [
    "arr = dem_fse_uplift_1_10.at_node['topographic__elevation'] # calcula a media dos valores do terreno\n",
    "avg_10 = np.mean(arr)\n",
    "avg_10"
   ]
  },
  {
   "cell_type": "code",
   "execution_count": 14,
   "metadata": {},
   "outputs": [
    {
     "data": {
      "text/plain": [
       "147.37848955757076"
      ]
     },
     "execution_count": 14,
     "metadata": {},
     "output_type": "execute_result"
    }
   ],
   "source": [
    "arr = dem_fse_uplift_1_20.at_node['topographic__elevation'] # calcula a media dos valores do terreno\n",
    "avg_20 = np.mean(arr)\n",
    "avg_20"
   ]
  },
  {
   "cell_type": "code",
   "execution_count": 15,
   "metadata": {},
   "outputs": [
    {
     "data": {
      "text/plain": [
       "107.76179498203931"
      ]
     },
     "execution_count": 15,
     "metadata": {},
     "output_type": "execute_result"
    }
   ],
   "source": [
    "arr = dem_fse_uplift_1_30.at_node['topographic__elevation'] # calcula a media dos valores do terreno\n",
    "avg_30 = np.mean(arr)\n",
    "avg_30"
   ]
  },
  {
   "cell_type": "code",
   "execution_count": 16,
   "metadata": {},
   "outputs": [
    {
     "data": {
      "text/plain": [
       "60.986216999822588"
      ]
     },
     "execution_count": 16,
     "metadata": {},
     "output_type": "execute_result"
    }
   ],
   "source": [
    "arr = dem_fse_uplift_1_100.at_node['topographic__elevation'] # calcula a media dos valores do terreno\n",
    "avg_100 = np.mean(arr)\n",
    "avg_100"
   ]
  },
  {
   "cell_type": "code",
   "execution_count": 17,
   "metadata": {},
   "outputs": [
    {
     "data": {
      "text/plain": [
       "55.875362501288272"
      ]
     },
     "execution_count": 17,
     "metadata": {},
     "output_type": "execute_result"
    }
   ],
   "source": [
    "arr = dem_fse_uplift_1_200.at_node['topographic__elevation'] # calcula a media dos valores do terreno\n",
    "avg_200 = np.mean(arr)\n",
    "avg_200"
   ]
  },
  {
   "cell_type": "code",
   "execution_count": 18,
   "metadata": {},
   "outputs": [
    {
     "data": {
      "text/plain": [
       "55.875362493750032"
      ]
     },
     "execution_count": 18,
     "metadata": {},
     "output_type": "execute_result"
    }
   ],
   "source": [
    "arr = dem_fse_uplift_1_300.at_node['topographic__elevation'] # calcula a media dos valores do terreno\n",
    "avg_300 = np.mean(arr)\n",
    "avg_300"
   ]
  },
  {
   "cell_type": "code",
   "execution_count": 19,
   "metadata": {},
   "outputs": [
    {
     "data": {
      "text/plain": [
       "55.875362493750025"
      ]
     },
     "execution_count": 19,
     "metadata": {},
     "output_type": "execute_result"
    }
   ],
   "source": [
    "arr = dem_fse_uplift_1_350.at_node['topographic__elevation'] # calcula a media dos valores do terreno\n",
    "avg_350 = np.mean(arr)\n",
    "avg_350"
   ]
  },
  {
   "cell_type": "code",
   "execution_count": 20,
   "metadata": {},
   "outputs": [
    {
     "data": {
      "text/plain": [
       "55.875362493750025"
      ]
     },
     "execution_count": 20,
     "metadata": {},
     "output_type": "execute_result"
    }
   ],
   "source": [
    "arr = dem_fse_uplift_1_400.at_node['topographic__elevation'] # calcula a media dos valores do terreno\n",
    "avg_400 = np.mean(arr)\n",
    "avg_400"
   ]
  },
  {
   "cell_type": "code",
   "execution_count": 21,
   "metadata": {},
   "outputs": [
    {
     "data": {
      "text/plain": [
       "55.875362493750011"
      ]
     },
     "execution_count": 21,
     "metadata": {},
     "output_type": "execute_result"
    }
   ],
   "source": [
    "arr = dem_fse_uplift_1_500.at_node['topographic__elevation'] # calcula a media dos valores do terreno\n",
    "avg_500 = np.mean(arr)\n",
    "avg_500"
   ]
  },
  {
   "cell_type": "code",
   "execution_count": 37,
   "metadata": {},
   "outputs": [
    {
     "data": {
      "text/plain": [
       "[<matplotlib.lines.Line2D at 0x7f926ae6c4e0>]"
      ]
     },
     "execution_count": 37,
     "metadata": {},
     "output_type": "execute_result"
    },
    {
     "data": {
      "image/png": "[encoded data removed]",
      "text/plain": [
       "<Figure size 432x288 with 1 Axes>"
      ]
     },
     "metadata": {
      "needs_background": "light"
     },
     "output_type": "display_data"
    }
   ],
   "source": [
    "avgs = [avg_10, avg_20, avg_30, avg_100, avg_200, avg_300, avg_350, avg_400, avg_500]\n",
    "time_step = 1000\n",
    "vetor_eixo = [10 * time_step, 20 * time_step, 30 * time_step, 100 * time_step, 200 * time_step, 300 * time_step, 350 * time_step, 400 * time_step, 500 * time_step] \n",
    "plt.plot(vetor_eixo, avgs)\n"
   ]
  },
  {
   "cell_type": "code",
   "execution_count": 30,
   "metadata": {},
   "outputs": [
    {
     "ename": "NameError",
     "evalue": "name 'avg2_10' is not defined",
     "output_type": "error",
     "traceback": [
      "\u001b[0;31m---------------------------------------------------------------------------\u001b[0m",
      "\u001b[0;31mNameError\u001b[0m                                 Traceback (most recent call last)",
      "\u001b[0;32m<ipython-input-30-e5391e662756>\u001b[0m in \u001b[0;36m<module>\u001b[0;34m\u001b[0m\n\u001b[0;32m----> 1\u001b[0;31m \u001b[0mavg2s\u001b[0m \u001b[0;34m=\u001b[0m \u001b[0;34m[\u001b[0m\u001b[0mavg2_10\u001b[0m\u001b[0;34m,\u001b[0m \u001b[0mavg2_20\u001b[0m\u001b[0;34m,\u001b[0m \u001b[0mavg2_30\u001b[0m\u001b[0;34m,\u001b[0m \u001b[0mavg2_100\u001b[0m\u001b[0;34m,\u001b[0m \u001b[0mavg2_200\u001b[0m\u001b[0;34m,\u001b[0m \u001b[0mavg2_300\u001b[0m\u001b[0;34m,\u001b[0m \u001b[0mavg2_350\u001b[0m\u001b[0;34m,\u001b[0m \u001b[0mavg2_400\u001b[0m\u001b[0;34m,\u001b[0m \u001b[0mavg2_500\u001b[0m\u001b[0;34m]\u001b[0m\u001b[0;34m\u001b[0m\u001b[0;34m\u001b[0m\u001b[0m\n\u001b[0m\u001b[1;32m      2\u001b[0m \u001b[0mplt\u001b[0m\u001b[0;34m.\u001b[0m\u001b[0mplot\u001b[0m\u001b[0;34m(\u001b[0m\u001b[0mavg2s\u001b[0m\u001b[0;34m)\u001b[0m\u001b[0;34m\u001b[0m\u001b[0;34m\u001b[0m\u001b[0m\n",
      "\u001b[0;31mNameError\u001b[0m: name 'avg2_10' is not defined"
     ]
    }
   ],
   "source": [
    "avg2s = [avg2_10, avg2_20, avg2_30, avg2_100, avg2_200, avg2_300, avg2_350, avg2_400, avg2_500]\n",
    "plt.plot(avg2s)"
   ]
  },
  {
   "cell_type": "code",
   "execution_count": null,
   "metadata": {},
   "outputs": [],
   "source": [
    "avg20s = [avg20_10, avg20_20, avg20_30, avg20_100, avg20_200, avg20_300, avg20_350, avg20_400, avg20_500]\n",
    "plt.plot(avg20s)"
   ]
  },
  {
   "cell_type": "markdown",
   "metadata": {},
   "source": [
    "## teste 2 fast scape erode\n",
    "\n",
    "parametros: sp = FastscapeEroder(mg, K_sp=0.0002, m_sp=0.5, n_sp=1.0, threshold_sp= 0.0)\n",
    "\n",
    "com time step =1000\n",
    "e \n",
    "### sem uplift"
   ]
  },
  {
   "cell_type": "code",
   "execution_count": null,
   "metadata": {},
   "outputs": [],
   "source": [
    "(dem_fse_uplift_2_10, _) = read_esri_ascii(\"./save_asc/testes_uplift_fse/ascii_fse_uplift_0,00210_topographic__elevation.asc\", name=\"topographic__elevation\")\n",
    "(dem_fse_uplift_2_20, _) = read_esri_ascii(\"./save_asc/testes_uplift_fse/ascii_fse_uplift_0,00220_topographic__elevation.asc\", name=\"topographic__elevation\")\n",
    "(dem_fse_uplift_2_30, _) = read_esri_ascii(\"./save_asc/testes_uplift_fse/ascii_fse_uplift_0,00230_topographic__elevation.asc\", name=\"topographic__elevation\")\n",
    "\n",
    "(dem_fse_uplift_2_100, _) = read_esri_ascii(\"./save_asc/testes_uplift_fse/ascii_fse_uplift_0,002100_topographic__elevation.asc\", name=\"topographic__elevation\")\n",
    "(dem_fse_uplift_2_200, _) = read_esri_ascii(\"./save_asc/testes_uplift_fse/ascii_fse_uplift_0,002200_topographic__elevation.asc\", name=\"topographic__elevation\")\n",
    "(dem_fse_uplift_2_300, _) = read_esri_ascii(\"./save_asc/testes_uplift_fse/ascii_fse_uplift_0,002300_topographic__elevation.asc\", name=\"topographic__elevation\")\n",
    "\n",
    "(dem_fse_uplift_2_350, _) = read_esri_ascii(\"./save_asc/testes_uplift_fse/ascii_fse_uplift_0,002350_topographic__elevation.asc\", name=\"topographic__elevation\")\n",
    "(dem_fse_uplift_2_400, _) = read_esri_ascii(\"./save_asc/testes_uplift_fse/ascii_fse_uplift_0,002400_topographic__elevation.asc\", name=\"topographic__elevation\")\n",
    "(dem_fse_uplift_2_500, _) = read_esri_ascii(\"./save_asc/testes_uplift_fse/ascii_fse_uplift_0,002500_topographic__elevation.asc\", name=\"topographic__elevation\")"
   ]
  },
  {
   "cell_type": "code",
   "execution_count": null,
   "metadata": {},
   "outputs": [],
   "source": [
    "arr = dem_fse_uplift_2_10.at_node['topographic__elevation'] # calcula a media dos valores do terreno\n",
    "avg2_10 = np.mean(arr)\n",
    "avg2_10"
   ]
  },
  {
   "cell_type": "code",
   "execution_count": null,
   "metadata": {},
   "outputs": [],
   "source": [
    "arr = dem_fse_uplift_2_20.at_node['topographic__elevation'] # calcula a media dos valores do terreno\n",
    "avg2_20 = np.mean(arr)\n",
    "avg2_20"
   ]
  },
  {
   "cell_type": "code",
   "execution_count": null,
   "metadata": {},
   "outputs": [],
   "source": [
    "arr = dem_fse_uplift_2_30.at_node['topographic__elevation'] # calcula a media dos valores do terreno\n",
    "avg2_30 = np.mean(arr)\n",
    "avg2_30"
   ]
  },
  {
   "cell_type": "code",
   "execution_count": null,
   "metadata": {},
   "outputs": [],
   "source": [
    "arr = dem_fse_uplift_2_100.at_node['topographic__elevation'] # calcula a media dos valores do terreno\n",
    "avg2_100 = np.mean(arr)\n",
    "avg2_100"
   ]
  },
  {
   "cell_type": "code",
   "execution_count": null,
   "metadata": {},
   "outputs": [],
   "source": [
    "arr = dem_fse_uplift_2_200.at_node['topographic__elevation'] # calcula a media dos valores do terreno\n",
    "avg2_200 = np.mean(arr)\n",
    "avg2_200"
   ]
  },
  {
   "cell_type": "code",
   "execution_count": null,
   "metadata": {},
   "outputs": [],
   "source": [
    "arr = dem_fse_uplift_2_300.at_node['topographic__elevation'] # calcula a media dos valores do terreno\n",
    "avg2_300 = np.mean(arr)\n",
    "avg2_300"
   ]
  },
  {
   "cell_type": "code",
   "execution_count": null,
   "metadata": {},
   "outputs": [],
   "source": [
    "arr = dem_fse_uplift_2_350.at_node['topographic__elevation'] # calcula a media dos valores do terreno\n",
    "avg2_350 = np.mean(arr)\n",
    "avg2_350"
   ]
  },
  {
   "cell_type": "code",
   "execution_count": null,
   "metadata": {},
   "outputs": [],
   "source": [
    "arr = dem_fse_uplift_2_400.at_node['topographic__elevation'] # calcula a media dos valores do terreno\n",
    "avg2_400 = np.mean(arr)\n",
    "avg2_400"
   ]
  },
  {
   "cell_type": "code",
   "execution_count": null,
   "metadata": {},
   "outputs": [],
   "source": [
    "arr = dem_fse_uplift_2_500.at_node['topographic__elevation'] # calcula a media dos valores do terreno\n",
    "avg2_500 = np.mean(arr)\n",
    "avg2_500"
   ]
  },
  {
   "cell_type": "markdown",
   "metadata": {},
   "source": [
    "### com uplift\n",
    "parametros: sp = FastscapeEroder(mg, K_sp=0.0002, m_sp=0.5, n_sp=1.0, threshold_sp= 0.0)\n",
    "\n",
    "com time step =1000 e uplift 0,0002"
   ]
  },
  {
   "cell_type": "code",
   "execution_count": null,
   "metadata": {},
   "outputs": [],
   "source": [
    "(dem_fse_uplift_on1_10, _) = read_esri_ascii(\"./save_asc/testes_uplift_fse/ascii_fse_uplift_110_topographic__elevation.asc\", name=\"topographic__elevation\")\n",
    "(dem_fse_uplift_on1_20, _) = read_esri_ascii(\"./save_asc/testes_uplift_fse/ascii_fse_uplift_120_topographic__elevation.asc\", name=\"topographic__elevation\")\n",
    "(dem_fse_uplift_on1_30, _) = read_esri_ascii(\"./save_asc/testes_uplift_fse/ascii_fse_uplift_130_topographic__elevation.asc\", name=\"topographic__elevation\")\n",
    "\n",
    "(dem_fse_uplift_on1_100, _) = read_esri_ascii(\"./save_asc/testes_uplift_fse/ascii_fse_uplift_1100_topographic__elevation.asc\", name=\"topographic__elevation\")\n",
    "(dem_fse_uplift_on1_200, _) = read_esri_ascii(\"./save_asc/testes_uplift_fse/ascii_fse_uplift_1200_topographic__elevation.asc\", name=\"topographic__elevation\")\n",
    "(dem_fse_uplift_on1_300, _) = read_esri_ascii(\"./save_asc/testes_uplift_fse/ascii_fse_uplift_1300_topographic__elevation.asc\", name=\"topographic__elevation\")\n",
    "\n",
    "(dem_fse_uplift_on1_350, _) = read_esri_ascii(\"./save_asc/testes_uplift_fse/ascii_fse_uplift_1350_topographic__elevation.asc\", name=\"topographic__elevation\")\n",
    "(dem_fse_uplift_on1_400, _) = read_esri_ascii(\"./save_asc/testes_uplift_fse/ascii_fse_uplift_1400_topographic__elevation.asc\", name=\"topographic__elevation\")\n",
    "(dem_fse_uplift_on1_500, _) = read_esri_ascii(\"./save_asc/testes_uplift_fse/ascii_fse_uplift_1500_topographic__elevation.asc\", name=\"topographic__elevation\")"
   ]
  },
  {
   "cell_type": "code",
   "execution_count": null,
   "metadata": {},
   "outputs": [],
   "source": [
    "dems = [dem_fse_uplift_on1_10, dem_fse_uplift_on1_20, dem_fse_uplift_on1_30,\n",
    "       dem_fse_uplift_on1_100, dem_fse_uplift_on1_200, dem_fse_uplift_on1_300,\n",
    "       dem_fse_uplift_on1_350, dem_fse_uplift_on1_400, dem_fse_uplift_on1_500]"
   ]
  },
  {
   "cell_type": "code",
   "execution_count": null,
   "metadata": {},
   "outputs": [],
   "source": [
    "def mean_top(dem):\n",
    "    arr = dem.at_node['topographic__elevation']\n",
    "    return np.mean(arr)    "
   ]
  },
  {
   "cell_type": "code",
   "execution_count": null,
   "metadata": {},
   "outputs": [],
   "source": [
    "means = list(map(mean_top, dems))\n",
    "means"
   ]
  },
  {
   "cell_type": "code",
   "execution_count": null,
   "metadata": {},
   "outputs": [],
   "source": [
    "plt.plot(means)"
   ]
  },
  {
   "cell_type": "markdown",
   "metadata": {},
   "source": [
    "### com uplift 0.001\n",
    "parametros: sp = FastscapeEroder(mg, K_sp=0.0002, m_sp=0.5, n_sp=1.0, threshold_sp= 0.0)\n",
    "\n",
    "com time step =1000"
   ]
  },
  {
   "cell_type": "code",
   "execution_count": 39,
   "metadata": {},
   "outputs": [],
   "source": [
    "(dem_fse_uplift_1_18_8_10, _) = read_esri_ascii(\"./save_asc/testes_uplift_fse/ascii_fse_uplift_1_18_810_topographic__elevation.asc\", name=\"topographic__elevation\")\n",
    "(dem_fse_uplift_1_18_8_20, _) = read_esri_ascii(\"./save_asc/testes_uplift_fse/ascii_fse_uplift_1_18_820_topographic__elevation.asc\", name=\"topographic__elevation\")\n",
    "(dem_fse_uplift_1_18_8_30, _) = read_esri_ascii(\"./save_asc/testes_uplift_fse/ascii_fse_uplift_1_18_830_topographic__elevation.asc\", name=\"topographic__elevation\")\n",
    "\n",
    "(dem_fse_uplift_1_18_8_100, _) = read_esri_ascii(\"./save_asc/testes_uplift_fse/ascii_fse_uplift_1_18_8100_topographic__elevation.asc\", name=\"topographic__elevation\")\n",
    "(dem_fse_uplift_1_18_8_200, _) = read_esri_ascii(\"./save_asc/testes_uplift_fse/ascii_fse_uplift_1_18_8200_topographic__elevation.asc\", name=\"topographic__elevation\")\n",
    "(dem_fse_uplift_1_18_8_300, _) = read_esri_ascii(\"./save_asc/testes_uplift_fse/ascii_fse_uplift_1_18_8300_topographic__elevation.asc\", name=\"topographic__elevation\")\n",
    "\n",
    "(dem_fse_uplift_1_18_8_350, _) = read_esri_ascii(\"./save_asc/testes_uplift_fse/ascii_fse_uplift_1_18_8350_topographic__elevation.asc\", name=\"topographic__elevation\")\n",
    "(dem_fse_uplift_1_18_8_400, _) = read_esri_ascii(\"./save_asc/testes_uplift_fse/ascii_fse_uplift_1_18_8400_topographic__elevation.asc\", name=\"topographic__elevation\")\n",
    "(dem_fse_uplift_1_18_8_500, _) = read_esri_ascii(\"./save_asc/testes_uplift_fse/ascii_fse_uplift_1_18_8500_topographic__elevation.asc\", name=\"topographic__elevation\")\n",
    "\n"
   ]
  },
  {
   "cell_type": "code",
   "execution_count": 40,
   "metadata": {},
   "outputs": [],
   "source": [
    "dems = [dem_fse_uplift_1_18_8_10, dem_fse_uplift_1_18_8_20, dem_fse_uplift_1_18_8_30,\n",
    "       dem_fse_uplift_1_18_8_100, dem_fse_uplift_1_18_8_200, dem_fse_uplift_1_18_8_300,\n",
    "       dem_fse_uplift_1_18_8_350, dem_fse_uplift_1_18_8_400, dem_fse_uplift_1_18_8_500]"
   ]
  },
  {
   "cell_type": "code",
   "execution_count": 41,
   "metadata": {},
   "outputs": [
    {
     "data": {
      "text/plain": [
       "[205.54932331620162,\n",
       " 168.37848829923851,\n",
       " 138.76180226207953,\n",
       " 162.02025401760307,\n",
       " 256.87536125790268,\n",
       " 356.87536124999997,\n",
       " 406.87536124999997,\n",
       " 456.87536124999997,\n",
       " 556.87536124999997]"
      ]
     },
     "execution_count": 41,
     "metadata": {},
     "output_type": "execute_result"
    }
   ],
   "source": [
    "means = list(map(mean_top, dems))\n",
    "means"
   ]
  },
  {
   "cell_type": "code",
   "execution_count": 42,
   "metadata": {},
   "outputs": [
    {
     "data": {
      "text/plain": [
       "[<matplotlib.lines.Line2D at 0x7f92691750f0>]"
      ]
     },
     "execution_count": 42,
     "metadata": {},
     "output_type": "execute_result"
    },
    {
     "data": {
      "image/png": "[encoded data removed]",
      "text/plain": [
       "<Figure size 432x288 with 1 Axes>"
      ]
     },
     "metadata": {
      "needs_background": "light"
     },
     "output_type": "display_data"
    }
   ],
   "source": [
    "plt.plot(means)"
   ]
  },
  {
   "cell_type": "code",
   "execution_count": 43,
   "metadata": {},
   "outputs": [
    {
     "data": {
      "text/plain": [
       "[<matplotlib.lines.Line2D at 0x7f926925b6a0>]"
      ]
     },
     "execution_count": 43,
     "metadata": {},
     "output_type": "execute_result"
    },
    {
     "data": {
      "image/png": "[encoded data removed]",
      "text/plain": [
       "<Figure size 432x288 with 1 Axes>"
      ]
     },
     "metadata": {
      "needs_background": "light"
     },
     "output_type": "display_data"
    }
   ],
   "source": [
    "avgs = means\n",
    "time_step = 1000\n",
    "vetor_eixo = [10* time_step, 20 * time_step, 30 * time_step, 100 * time_step, 200 * time_step, 300 * time_step, 350 * time_step, 400 * time_step, 500 * time_step] \n",
    "plt.plot(vetor_eixo, avgs)"
   ]
  },
  {
   "cell_type": "markdown",
   "metadata": {},
   "source": [
    "parametros: sp = FastscapeEroder(mg, K_sp=0.0002, m_sp=0.5, n_sp=1.0, threshold_sp= 0.0)\n",
    "\n",
    "com time step =1000 e uplift 0,0001"
   ]
  },
  {
   "cell_type": "code",
   "execution_count": 24,
   "metadata": {},
   "outputs": [],
   "source": [
    "(dem_fse_uplift_on2_10, _) = read_esri_ascii(\"./save_asc/testes_uplift_fse/ascii_fse_uplift_210_topographic__elevation.asc\", name=\"topographic__elevation\")\n",
    "(dem_fse_uplift_on2_20, _) = read_esri_ascii(\"./save_asc/testes_uplift_fse/ascii_fse_uplift_220_topographic__elevation.asc\", name=\"topographic__elevation\")\n",
    "(dem_fse_uplift_on2_30, _) = read_esri_ascii(\"./save_asc/testes_uplift_fse/ascii_fse_uplift_230_topographic__elevation.asc\", name=\"topographic__elevation\")\n",
    "\n",
    "(dem_fse_uplift_on2_100, _) = read_esri_ascii(\"./save_asc/testes_uplift_fse/ascii_fse_uplift_2100_topographic__elevation.asc\", name=\"topographic__elevation\")\n",
    "(dem_fse_uplift_on2_200, _) = read_esri_ascii(\"./save_asc/testes_uplift_fse/ascii_fse_uplift_2200_topographic__elevation.asc\", name=\"topographic__elevation\")\n",
    "(dem_fse_uplift_on2_300, _) = read_esri_ascii(\"./save_asc/testes_uplift_fse/ascii_fse_uplift_2300_topographic__elevation.asc\", name=\"topographic__elevation\")\n",
    "\n",
    "(dem_fse_uplift_on2_350, _) = read_esri_ascii(\"./save_asc/testes_uplift_fse/ascii_fse_uplift_2350_topographic__elevation.asc\", name=\"topographic__elevation\")\n",
    "(dem_fse_uplift_on2_400, _) = read_esri_ascii(\"./save_asc/testes_uplift_fse/ascii_fse_uplift_2400_topographic__elevation.asc\", name=\"topographic__elevation\")\n",
    "(dem_fse_uplift_on2_500, _) = read_esri_ascii(\"./save_asc/testes_uplift_fse/ascii_fse_uplift_2500_topographic__elevation.asc\", name=\"topographic__elevation\")\n",
    "\n",
    "(dem_fse_uplift_on2_1000, _) = read_esri_ascii(\"./save_asc/testes_uplift_fse/ascii_fse_uplift_21000_topographic__elevation.asc\", name=\"topographic__elevation\")"
   ]
  },
  {
   "cell_type": "code",
   "execution_count": 25,
   "metadata": {},
   "outputs": [
    {
     "data": {
      "image/png": "[encoded data removed]",
      "text/plain": [
       "<Figure size 432x288 with 2 Axes>"
      ]
     },
     "metadata": {
      "needs_background": "light"
     },
     "output_type": "display_data"
    }
   ],
   "source": [
    "landlab.plot.imshow.imshow_grid_at_node(dem_fse_uplift_on2_1000,'topographic__elevation')"
   ]
  },
  {
   "cell_type": "code",
   "execution_count": 26,
   "metadata": {},
   "outputs": [],
   "source": [
    "dems = [dem_fse_uplift_on2_10, dem_fse_uplift_on2_20, dem_fse_uplift_on2_30,\n",
    "       dem_fse_uplift_on2_100, dem_fse_uplift_on2_200, dem_fse_uplift_on2_300,\n",
    "       dem_fse_uplift_on2_350, dem_fse_uplift_on2_400, dem_fse_uplift_on2_500, dem_fse_uplift_on2_1000]"
   ]
  },
  {
   "cell_type": "code",
   "execution_count": 27,
   "metadata": {},
   "outputs": [
    {
     "data": {
      "text/plain": [
       "[223.05785499474868,\n",
       " 194.78866058046316,\n",
       " 168.86547386466202,\n",
       " 103.9719003107278,\n",
       " 81.698072814711679,\n",
       " 85.990114135582047,\n",
       " 90.975364275699221,\n",
       " 95.975361250344704,\n",
       " 105.9753612499979,\n",
       " 155.97536124999519]"
      ]
     },
     "execution_count": 27,
     "metadata": {},
     "output_type": "execute_result"
    }
   ],
   "source": [
    "means = list(map(mean_top, dems))\n",
    "means"
   ]
  },
  {
   "cell_type": "code",
   "execution_count": 28,
   "metadata": {},
   "outputs": [
    {
     "data": {
      "text/plain": [
       "[<matplotlib.lines.Line2D at 0x7f92686d54e0>]"
      ]
     },
     "execution_count": 28,
     "metadata": {},
     "output_type": "execute_result"
    },
    {
     "data": {
      "image/png": "[encoded data removed]",
      "text/plain": [
       "<Figure size 432x288 with 1 Axes>"
      ]
     },
     "metadata": {
      "needs_background": "light"
     },
     "output_type": "display_data"
    }
   ],
   "source": [
    "plt.plot(means)"
   ]
  },
  {
   "cell_type": "markdown",
   "metadata": {},
   "source": [
    " ### usando fast scape e erosion deposition\n",
    " \n",
    " FastscapeEroder(mg, K_sp=0.0004, m_sp=0.5, n_sp=1.0, threshold_sp= 0.0)\n",
    " \n",
    " ed = ErosionDeposition(\n",
    "     mg,\n",
    "     K=0.00004,\n",
    "     v_s=0.001,\n",
    "     m_sp=0.5, \n",
    "     n_sp = 1.0, \n",
    "     sp_crit=0\n",
    "     \n",
    "     time step = 1000 e uplift rate =0.0001"
   ]
  },
  {
   "cell_type": "code",
   "execution_count": 2,
   "metadata": {},
   "outputs": [],
   "source": [
    "(dem_fse_ed_1_upon_10, _) = read_esri_ascii(\"./save_asc/testes_uplift_fse/ascii_fse_ed_110_topographic__elevation.asc\", name=\"topographic__elevation\")\n",
    "(dem_fse_ed_1_upon_20, _) = read_esri_ascii(\"./save_asc/testes_uplift_fse/ascii_fse_ed_120_topographic__elevation.asc\", name=\"topographic__elevation\")\n",
    "(dem_fse_ed_1_upon_30, _) = read_esri_ascii(\"./save_asc/testes_uplift_fse/ascii_fse_ed_130_topographic__elevation.asc\", name=\"topographic__elevation\")\n",
    "\n",
    "(dem_fse_ed_1_upon_100, _) = read_esri_ascii(\"./save_asc/testes_uplift_fse/ascii_fse_ed_1100_topographic__elevation.asc\", name=\"topographic__elevation\")\n",
    "(dem_fse_ed_1_upon_200, _) = read_esri_ascii(\"./save_asc/testes_uplift_fse/ascii_fse_ed_1200_topographic__elevation.asc\", name=\"topographic__elevation\")\n",
    "(dem_fse_ed_1_upon_300, _) = read_esri_ascii(\"./save_asc/testes_uplift_fse/ascii_fse_ed_1300_topographic__elevation.asc\", name=\"topographic__elevation\")\n",
    "\n",
    "(dem_fse_ed_1_upon_350, _) = read_esri_ascii(\"./save_asc/testes_uplift_fse/ascii_fse_ed_1350_topographic__elevation.asc\", name=\"topographic__elevation\")\n",
    "(dem_fse_ed_1_upon_400, _) = read_esri_ascii(\"./save_asc/testes_uplift_fse/ascii_fse_ed_1400_topographic__elevation.asc\", name=\"topographic__elevation\")\n",
    "(dem_fse_ed_1_upon_500, _) = read_esri_ascii(\"./save_asc/testes_uplift_fse/ascii_fse_ed_1500_topographic__elevation.asc\", name=\"topographic__elevation\")"
   ]
  },
  {
   "cell_type": "code",
   "execution_count": 3,
   "metadata": {},
   "outputs": [],
   "source": [
    "dems = [dem_fse_ed_1_upon_10, dem_fse_ed_1_upon_20, dem_fse_ed_1_upon_30,\n",
    "       dem_fse_ed_1_upon_100, dem_fse_ed_1_upon_200, dem_fse_ed_1_upon_300,\n",
    "       dem_fse_ed_1_upon_350, dem_fse_ed_1_upon_400, dem_fse_ed_1_upon_500]"
   ]
  },
  {
   "cell_type": "code",
   "execution_count": 6,
   "metadata": {},
   "outputs": [
    {
     "data": {
      "text/plain": [
       "[183.28350940360707,\n",
       " 92.005421399320369,\n",
       " -23.219337619353471,\n",
       " -582.75842715203328,\n",
       " -643.89889080020509,\n",
       " -634.00638154677119,\n",
       " -629.00748028853377,\n",
       " -624.00836938486793,\n",
       " -614.00932258008265]"
      ]
     },
     "execution_count": 6,
     "metadata": {},
     "output_type": "execute_result"
    }
   ],
   "source": [
    "means = list(map(mean_top, dems))\n",
    "means"
   ]
  },
  {
   "cell_type": "code",
   "execution_count": 7,
   "metadata": {},
   "outputs": [
    {
     "data": {
      "text/plain": [
       "[<matplotlib.lines.Line2D at 0x7f9270ff5240>]"
      ]
     },
     "execution_count": 7,
     "metadata": {},
     "output_type": "execute_result"
    },
    {
     "data": {
      "image/png": "[encoded data removed]",
      "text/plain": [
       "<Figure size 432x288 with 1 Axes>"
      ]
     },
     "metadata": {
      "needs_background": "light"
     },
     "output_type": "display_data"
    }
   ],
   "source": [
    "plt.plot(means, )"
   ]
  },
  {
   "cell_type": "code",
   "execution_count": 10,
   "metadata": {},
   "outputs": [
    {
     "data": {
      "image/png": "[encoded data removed]",
      "text/plain": [
       "<Figure size 432x288 with 2 Axes>"
      ]
     },
     "metadata": {
      "needs_background": "light"
     },
     "output_type": "display_data"
    }
   ],
   "source": [
    "landlab.plot.imshow.imshow_grid_at_node(dem_fse_ed_1_upon_500,'topographic__elevation')"
   ]
  },
  {
   "cell_type": "markdown",
   "metadata": {},
   "source": [
    "# teste 3\n"
   ]
  },
  {
   "cell_type": "markdown",
   "metadata": {},
   "source": [
    "p = FastscapeEroder(mg, K_sp=0.0001, m_sp=0.5, n_sp=1.0, threshold_sp= 0.0)"
   ]
  },
  {
   "cell_type": "code",
   "execution_count": 41,
   "metadata": {},
   "outputs": [],
   "source": [
    "(dem_fse_uplift_20_10, _) = read_esri_ascii(\"./save_asc/testes_uplift_fse/ascii_fse_uplift_0,210_topographic__elevation.asc\", name=\"topographic__elevation\")\n",
    "(dem_fse_uplift_20_20, _) = read_esri_ascii(\"./save_asc/testes_uplift_fse/ascii_fse_uplift_0,220_topographic__elevation.asc\", name=\"topographic__elevation\")\n",
    "(dem_fse_uplift_2_30, _) = read_esri_ascii(\"./save_asc/testes_uplift_fse/ascii_fse_uplift_0,230_topographic__elevation.asc\", name=\"topographic__elevation\")\n",
    "\n",
    "(dem_fse_uplift_20_100, _) = read_esri_ascii(\"./save_asc/testes_uplift_fse/ascii_fse_uplift_0,2100_topographic__elevation.asc\", name=\"topographic__elevation\")\n",
    "(dem_fse_uplift_20_200, _) = read_esri_ascii(\"./save_asc/testes_uplift_fse/ascii_fse_uplift_0,2200_topographic__elevation.asc\", name=\"topographic__elevation\")\n",
    "(dem_fse_uplift_20_300, _) = read_esri_ascii(\"./save_asc/testes_uplift_fse/ascii_fse_uplift_0,2300_topographic__elevation.asc\", name=\"topographic__elevation\")\n",
    "\n",
    "(dem_fse_uplift_20_350, _) = read_esri_ascii(\"./save_asc/testes_uplift_fse/ascii_fse_uplift_0,2350_topographic__elevation.asc\", name=\"topographic__elevation\")\n",
    "(dem_fse_uplift_20_400, _) = read_esri_ascii(\"./save_asc/testes_uplift_fse/ascii_fse_uplift_0,2400_topographic__elevation.asc\", name=\"topographic__elevation\")\n",
    "(dem_fse_uplift_20_500, _) = read_esri_ascii(\"./save_asc/testes_uplift_fse/ascii_fse_uplift_0,2500_topographic__elevation.asc\", name=\"topographic__elevation\")"
   ]
  },
  {
   "cell_type": "code",
   "execution_count": 42,
   "metadata": {},
   "outputs": [
    {
     "data": {
      "text/plain": [
       "238.24302459167748"
      ]
     },
     "execution_count": 42,
     "metadata": {},
     "output_type": "execute_result"
    }
   ],
   "source": [
    "arr = dem_fse_uplift_20_10.at_node['topographic__elevation'] # calcula a media dos valores do terreno\n",
    "avg20_10 = np.mean(arr)\n",
    "avg20_10"
   ]
  },
  {
   "cell_type": "code",
   "execution_count": 43,
   "metadata": {},
   "outputs": [
    {
     "data": {
      "text/plain": [
       "222.49681170490425"
      ]
     },
     "execution_count": 43,
     "metadata": {},
     "output_type": "execute_result"
    }
   ],
   "source": [
    "arr = dem_fse_uplift_20_20.at_node['topographic__elevation'] # calcula a media dos valores do terreno\n",
    "avg20_20 = np.mean(arr)\n",
    "avg20_20"
   ]
  },
  {
   "cell_type": "code",
   "execution_count": 44,
   "metadata": {},
   "outputs": [
    {
     "data": {
      "text/plain": [
       "206.81460645725448"
      ]
     },
     "execution_count": 44,
     "metadata": {},
     "output_type": "execute_result"
    }
   ],
   "source": [
    "arr = dem_fse_uplift_2_30.at_node['topographic__elevation'] # calcula a media dos valores do terreno\n",
    "avg20_30 = np.mean(arr)\n",
    "avg20_30"
   ]
  },
  {
   "cell_type": "code",
   "execution_count": 45,
   "metadata": {},
   "outputs": [
    {
     "data": {
      "text/plain": [
       "130.76518637311767"
      ]
     },
     "execution_count": 45,
     "metadata": {},
     "output_type": "execute_result"
    }
   ],
   "source": [
    "arr = dem_fse_uplift_20_100.at_node['topographic__elevation'] # calcula a media dos valores do terreno\n",
    "avg20_100 = np.mean(arr)\n",
    "avg20_100"
   ]
  },
  {
   "cell_type": "code",
   "execution_count": 46,
   "metadata": {},
   "outputs": [
    {
     "data": {
      "text/plain": [
       "92.189327847253026"
      ]
     },
     "execution_count": 46,
     "metadata": {},
     "output_type": "execute_result"
    }
   ],
   "source": [
    "arr = dem_fse_uplift_20_200.at_node['topographic__elevation'] # calcula a media dos valores do terreno\n",
    "avg20_200 = np.mean(arr)\n",
    "avg20_200"
   ]
  },
  {
   "cell_type": "code",
   "execution_count": 47,
   "metadata": {},
   "outputs": [
    {
     "data": {
      "text/plain": [
       "68.536716468648692"
      ]
     },
     "execution_count": 47,
     "metadata": {},
     "output_type": "execute_result"
    }
   ],
   "source": [
    "arr = dem_fse_uplift_20_300.at_node['topographic__elevation'] # calcula a media dos valores do terreno\n",
    "avg20_300 = np.mean(arr)\n",
    "avg20_300"
   ]
  },
  {
   "cell_type": "code",
   "execution_count": 48,
   "metadata": {},
   "outputs": [
    {
     "data": {
      "text/plain": [
       "63.132990281173264"
      ]
     },
     "execution_count": 48,
     "metadata": {},
     "output_type": "execute_result"
    }
   ],
   "source": [
    "arr = dem_fse_uplift_20_350.at_node['topographic__elevation'] # calcula a media dos valores do terreno\n",
    "avg20_350 = np.mean(arr)\n",
    "avg20_350"
   ]
  },
  {
   "cell_type": "code",
   "execution_count": 49,
   "metadata": {},
   "outputs": [
    {
     "data": {
      "text/plain": [
       "59.193862797436829"
      ]
     },
     "execution_count": 49,
     "metadata": {},
     "output_type": "execute_result"
    }
   ],
   "source": [
    "arr = dem_fse_uplift_20_400.at_node['topographic__elevation'] # calcula a media dos valores do terreno\n",
    "avg20_400 = np.mean(arr)\n",
    "avg20_400"
   ]
  },
  {
   "cell_type": "code",
   "execution_count": 50,
   "metadata": {},
   "outputs": [
    {
     "data": {
      "text/plain": [
       "56.211853504336915"
      ]
     },
     "execution_count": 50,
     "metadata": {},
     "output_type": "execute_result"
    }
   ],
   "source": [
    "arr = dem_fse_uplift_20_500.at_node['topographic__elevation'] # calcula a media dos valores do terreno\n",
    "avg20_500 = np.mean(arr)\n",
    "avg20_500"
   ]
  },
  {
   "cell_type": "code",
   "execution_count": null,
   "metadata": {},
   "outputs": [],
   "source": []
  },
  {
   "cell_type": "code",
   "execution_count": null,
   "metadata": {},
   "outputs": [],
   "source": []
  }
 ],
 "metadata": {
  "kernelspec": {
   "display_name": "Python 3",
   "language": "python",
   "name": "python3"
  },
  "language_info": {
   "codemirror_mode": {
    "name": "ipython",
    "version": 3
   },
   "file_extension": ".py",
   "mimetype": "text/x-python",
   "name": "python",
   "nbconvert_exporter": "python",
   "pygments_lexer": "ipython3",
   "version": "3.8.2"
  }
 },
 "nbformat": 4,
 "nbformat_minor": 4
}
