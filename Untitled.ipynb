{
 "cells": [
  {
   "cell_type": "code",
   "execution_count": 148,
   "metadata": {},
   "outputs": [],
   "source": [
    "import os\n",
    "import numpy as np\n",
    "from landlab import RasterModelGrid\n",
    "import landlab\n",
    "from landlab.io import read_esri_ascii\n",
    "from landlab.components import FlowAccumulator, FastscapeEroder, SedDepEroder,LinearDiffuser, ErosionDeposition, DepressionFinderAndRouter\n",
    "from landlab.io.esri_ascii import write_esri_ascii\n",
    "import matplotlib.pyplot as plt\n",
    "import matplotlib as mpl\n",
    "from matplotlib.colors import LinearSegmentedColormap"
   ]
  },
  {
   "cell_type": "code",
   "execution_count": 149,
   "metadata": {},
   "outputs": [],
   "source": [
    "def create_folder(name):\n",
    "    parent_folder = \"./save_asc\"\n",
    "    path = os.path.join(parent_folder, name)\n",
    "    if not os.path.exists(path):\n",
    "        os.mkdir(path)  "
   ]
  },
  {
   "cell_type": "code",
   "execution_count": 150,
   "metadata": {},
   "outputs": [],
   "source": [
    "# Create test folder name\n",
    "test_name = \"test_fst_closed_borders_19_8\"\n",
    "create_folder(test_name)"
   ]
  },
  {
   "cell_type": "code",
   "execution_count": 151,
   "metadata": {},
   "outputs": [],
   "source": [
    "def CountLinesAndColumns(fileName):        \n",
    "    with open(fileName) as file:\n",
    "        lines_after_6 = file.readlines()[5:]\n",
    "   \n",
    "    splitLine = lines_after_6[0].split()\n",
    "    numberOfColumns = len(splitLine)        \n",
    "    numberOfLines = lines_after_6.__len__()        \n",
    "    grid = np.zeros((numberOfLines, numberOfColumns))    \n",
    "    for i in range(numberOfLines):\n",
    "        splitLine = lines_after_6[i].split()\n",
    "        for j in range(numberOfColumns):\n",
    "            grid[i][j] = splitLine[j]            \n",
    "    file.close()                            \n",
    "    return numberOfLines, numberOfColumns, grid\n"
   ]
  },
  {
   "cell_type": "code",
   "execution_count": 152,
   "metadata": {},
   "outputs": [],
   "source": [
    "def plotdem(grid):\n",
    "    plt.imshow(grid, interpolation = 'quadric', vmin = grid.min(), vmax = grid.max())\n",
    "    plt.colorbar()\n",
    "    plt.show()"
   ]
  },
  {
   "cell_type": "code",
   "execution_count": 153,
   "metadata": {},
   "outputs": [
    {
     "data": {
      "text/plain": [
       "['topographic__elevation']"
      ]
     },
     "execution_count": 153,
     "metadata": {},
     "output_type": "execute_result"
    }
   ],
   "source": [
    "(mg_origin, z) = read_esri_ascii(\"./save_asc/ascii_crop_10_10.asc\", name=\"topographic__elevation\")\n",
    "\n",
    "(mg, z) = read_esri_ascii(\"./save_asc/ascii_crop_10_10.asc\", name=\"topographic__elevation\")\n",
    "mg.at_node.keys()"
   ]
  },
  {
   "cell_type": "code",
   "execution_count": 154,
   "metadata": {},
   "outputs": [
    {
     "data": {
      "image/png": "[encoded data removed]",
      "text/plain": [
       "<Figure size 432x288 with 2 Axes>"
      ]
     },
     "metadata": {
      "needs_background": "light"
     },
     "output_type": "display_data"
    }
   ],
   "source": [
    "landlab.plot.imshow.imshow_grid_at_node(mg,'topographic__elevation')"
   ]
  },
  {
   "cell_type": "code",
   "execution_count": 155,
   "metadata": {},
   "outputs": [],
   "source": [
    "#mg.set_fixed_value_boundaries_at_grid_edges(right, top, left, bottom)\n",
    "#mg.set_fixed_value_boundaries_at_grid_edges(True, True, True, True)"
   ]
  },
  {
   "cell_type": "code",
   "execution_count": 156,
   "metadata": {},
   "outputs": [],
   "source": [
    "#mg.set_status_at_node_on_edges(True, True, True, True)"
   ]
  },
  {
   "cell_type": "code",
   "execution_count": 157,
   "metadata": {},
   "outputs": [],
   "source": [
    "mg.set_status_at_node_on_edges(right= mg.BC_NODE_IS_CLOSED, top=mg.BC_NODE_IS_CLOSED,\n",
    "                               left=mg.BC_NODE_IS_CLOSED, bottom=mg.BC_NODE_IS_CLOSED) "
   ]
  },
  {
   "cell_type": "markdown",
   "metadata": {},
   "source": [
    "## inicinado componentes"
   ]
  },
  {
   "cell_type": "code",
   "execution_count": 158,
   "metadata": {},
   "outputs": [],
   "source": [
    "fr = FlowAccumulator(mg, flow_director='D8') \n",
    "df = DepressionFinderAndRouter(mg)\n",
    "sp = FastscapeEroder(mg, K_sp=0.0004, m_sp=0.5, n_sp=1.0, threshold_sp= 0.0)"
   ]
  },
  {
   "cell_type": "code",
   "execution_count": 159,
   "metadata": {},
   "outputs": [
    {
     "name": "stdout",
     "output_type": "stream",
     "text": [
      "0\n",
      "1\n",
      "2\n",
      "3\n",
      "4\n",
      "5\n",
      "6\n",
      "7\n",
      "8\n",
      "9\n",
      "10\n",
      "11\n",
      "12\n",
      "13\n",
      "14\n",
      "15\n",
      "16\n",
      "17\n",
      "18\n",
      "19\n"
     ]
    }
   ],
   "source": [
    "time_step = 1000\n",
    "total =20000\n",
    "nun_of_interations = int(total//time_step)\n",
    "fr.run_one_step()\n",
    "for i in range(nun_of_interations):\n",
    "    print(i)\n",
    "    sp.run_one_step(time_step)\n",
    "    if i ==19:\n",
    "        files = write_esri_ascii(\"./save_asc/\"+test_name+\"/\"+str(i)+\".asc\", mg)\n"
   ]
  },
  {
   "cell_type": "code",
   "execution_count": 160,
   "metadata": {},
   "outputs": [
    {
     "data": {
      "image/png": "[encoded data removed]",
      "text/plain": [
       "<Figure size 432x288 with 2 Axes>"
      ]
     },
     "metadata": {
      "needs_background": "light"
     },
     "output_type": "display_data"
    }
   ],
   "source": [
    "landlab.plot.imshow.imshow_grid_at_node(mg,'topographic__elevation')"
   ]
  },
  {
   "cell_type": "code",
   "execution_count": 165,
   "metadata": {},
   "outputs": [],
   "source": [
    "nl, nc, grid = CountLinesAndColumns(\"./save_asc/ascii_crop_10_10.asc\")\n"
   ]
  },
  {
   "cell_type": "code",
   "execution_count": 166,
   "metadata": {},
   "outputs": [],
   "source": [
    "nl, nc, grid2 = CountLinesAndColumns(\"./save_asc/erosao_bc_19_08/19_topographic__elevation.asc\")"
   ]
  },
  {
   "cell_type": "code",
   "execution_count": 167,
   "metadata": {},
   "outputs": [],
   "source": [
    "nl, nc, grid3 = CountLinesAndColumns(\"./save_asc/test_fst_closed_borders_19_8/19_topographic__elevation.asc\")"
   ]
  },
  {
   "cell_type": "code",
   "execution_count": 168,
   "metadata": {},
   "outputs": [],
   "source": [
    "grid_dif = grid2 - grid \n"
   ]
  },
  {
   "cell_type": "code",
   "execution_count": 169,
   "metadata": {},
   "outputs": [],
   "source": [
    "grid_dif1 = grid3 - grid "
   ]
  },
  {
   "cell_type": "code",
   "execution_count": 170,
   "metadata": {},
   "outputs": [
    {
     "name": "stdout",
     "output_type": "stream",
     "text": [
      "[[  0.           0.           0.           0.           0.\n",
      "    0.           0.           0.           0.           0.        ]\n",
      " [  0.         -14.88282397 -13.98689476  -6.99759027  -4.99402402\n",
      "   -7.99043843 -14.9274345   -9.98804804 -26.81469142   0.        ]\n",
      " [  0.         -21.93671234 -14.99916553  -6.99999182   0.\n",
      "   -7.99043843 -11.9041693  -15.80446822 -14.89705079   0.        ]\n",
      " [  0.         -28.69757351 -20.96913457 -13.98326725  -4.99936191\n",
      "   -1.99974477  -8.99700711 -23.94248567 -33.66892891   0.        ]\n",
      " [  0.         -34.41978685 -29.60252605 -19.82905607 -17.87007715\n",
      "   -9.98002534 -10.99963707 -23.94248567 -29.61417559   0.        ]\n",
      " [  0.         -39.19802016 -39.48693265 -32.82215325 -20.98503152\n",
      "   -9.9982499   -6.99999493 -18.99588655 -26.70925228   0.        ]\n",
      " [  0.         -33.72129613 -28.98120443 -22.99669556 -20.77063896\n",
      "  -14.97951069  -3.99999989 -12.99786705 -21.89857905   0.        ]\n",
      " [  0.         -37.78719651 -29.99291418 -21.99965715 -16.99999581\n",
      "  -14.99999966  -1.99999999  -6.99163363 -10.98685284   0.        ]\n",
      " [  0.         -38.32237053 -34.59835465 -26.75194921 -21.9553863\n",
      "  -18.86670455  -7.99043843   0.          -4.99402402   0.        ]\n",
      " [  0.           0.           0.           0.           0.\n",
      "    0.           0.           0.           0.           0.        ]]\n"
     ]
    }
   ],
   "source": [
    "print(grid_dif)"
   ]
  },
  {
   "cell_type": "code",
   "execution_count": 171,
   "metadata": {},
   "outputs": [
    {
     "name": "stdout",
     "output_type": "stream",
     "text": [
      "[[  0.           0.           0.           0.           0.\n",
      "    0.           0.           0.           0.           0.        ]\n",
      " [  0.         -14.88282397 -13.98689476  -6.99759027  -4.99402402\n",
      "   -7.99043843 -14.9274345  -20.66979423 -24.58641054   0.        ]\n",
      " [  0.         -21.93671234 -14.99916553  -6.99999182   0.\n",
      "   -7.99043843 -11.98294494 -15.98678277 -25.85589311   0.        ]\n",
      " [  0.         -28.69757351 -20.96913457 -13.98326725  -4.99936191\n",
      "   -1.99997191  -8.99973738 -23.94248567 -33.66892891   0.        ]\n",
      " [  0.         -34.41978685 -29.60252605 -19.82905607 -17.87007715\n",
      "   -9.98002534 -10.99963707 -23.94248567 -29.61417559   0.        ]\n",
      " [  0.         -39.19802016 -39.48693265 -32.82215325 -20.98503152\n",
      "   -9.9982499   -6.99999493 -18.99588655 -26.70925228   0.        ]\n",
      " [  0.         -33.72129613 -28.98120443 -22.99669556 -20.77063896\n",
      "  -14.97951069  -3.99999989 -12.99786705 -21.89857905   0.        ]\n",
      " [  0.         -37.78719651 -29.99291418 -21.99965715 -16.99999581\n",
      "  -14.99999966  -1.99999999  -6.99163363 -10.98685284   0.        ]\n",
      " [  0.         -38.32237053 -34.59835465 -26.75194921 -21.9553863\n",
      "  -18.86670455  -7.99043843   0.          -4.99402402   0.        ]\n",
      " [  0.           0.           0.           0.           0.\n",
      "    0.           0.           0.           0.           0.        ]]\n"
     ]
    }
   ],
   "source": [
    "print(grid_dif1)"
   ]
  },
  {
   "cell_type": "code",
   "execution_count": null,
   "metadata": {},
   "outputs": [],
   "source": []
  }
 ],
 "metadata": {
  "kernelspec": {
   "display_name": "Python 3",
   "language": "python",
   "name": "python3"
  },
  "language_info": {
   "codemirror_mode": {
    "name": "ipython",
    "version": 3
   },
   "file_extension": ".py",
   "mimetype": "text/x-python",
   "name": "python",
   "nbconvert_exporter": "python",
   "pygments_lexer": "ipython3",
   "version": "3.6.9"
  }
 },
 "nbformat": 4,
 "nbformat_minor": 4
}
